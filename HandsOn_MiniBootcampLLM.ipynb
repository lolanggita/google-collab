{
  "nbformat": 4,
  "nbformat_minor": 0,
  "metadata": {
    "colab": {
      "provenance": [],
      "authorship_tag": "ABX9TyMgeya15XlrL3WsKzrIxBtp",
      "include_colab_link": true
    },
    "kernelspec": {
      "name": "python3",
      "display_name": "Python 3"
    },
    "language_info": {
      "name": "python"
    }
  },
  "cells": [
    {
      "cell_type": "markdown",
      "metadata": {
        "id": "view-in-github",
        "colab_type": "text"
      },
      "source": [
        "<a href=\"https://colab.research.google.com/github/lolanggita/google-collab/blob/main/HandsOn_MiniBootcampLLM.ipynb\" target=\"_parent\"><img src=\"https://colab.research.google.com/assets/colab-badge.svg\" alt=\"Open In Colab\"/></a>"
      ]
    },
    {
      "cell_type": "markdown",
      "source": [
        "## **Firecrawl**"
      ],
      "metadata": {
        "id": "bwKUnkWZIDMm"
      }
    },
    {
      "cell_type": "code",
      "execution_count": 1,
      "metadata": {
        "id": "6q6rsdLHHG0M"
      },
      "outputs": [],
      "source": [
        "pip install firecrawl-py -q"
      ]
    },
    {
      "cell_type": "code",
      "source": [
        "!pip install gradio openai"
      ],
      "metadata": {
        "colab": {
          "base_uri": "https://localhost:8080/"
        },
        "id": "GkwUZsA1HWAz",
        "outputId": "6d16ab40-3f34-452a-a347-8687dbf4af8c"
      },
      "execution_count": 2,
      "outputs": [
        {
          "output_type": "stream",
          "name": "stdout",
          "text": [
            "Collecting gradio\n",
            "  Downloading gradio-5.13.1-py3-none-any.whl.metadata (16 kB)\n",
            "Requirement already satisfied: openai in /usr/local/lib/python3.11/dist-packages (1.59.9)\n",
            "Collecting aiofiles<24.0,>=22.0 (from gradio)\n",
            "  Downloading aiofiles-23.2.1-py3-none-any.whl.metadata (9.7 kB)\n",
            "Requirement already satisfied: anyio<5.0,>=3.0 in /usr/local/lib/python3.11/dist-packages (from gradio) (3.7.1)\n",
            "Collecting fastapi<1.0,>=0.115.2 (from gradio)\n",
            "  Downloading fastapi-0.115.7-py3-none-any.whl.metadata (27 kB)\n",
            "Collecting ffmpy (from gradio)\n",
            "  Downloading ffmpy-0.5.0-py3-none-any.whl.metadata (3.0 kB)\n",
            "Collecting gradio-client==1.6.0 (from gradio)\n",
            "  Downloading gradio_client-1.6.0-py3-none-any.whl.metadata (7.1 kB)\n",
            "Requirement already satisfied: httpx>=0.24.1 in /usr/local/lib/python3.11/dist-packages (from gradio) (0.28.1)\n",
            "Requirement already satisfied: huggingface-hub>=0.25.1 in /usr/local/lib/python3.11/dist-packages (from gradio) (0.27.1)\n",
            "Requirement already satisfied: jinja2<4.0 in /usr/local/lib/python3.11/dist-packages (from gradio) (3.1.5)\n",
            "Collecting markupsafe~=2.0 (from gradio)\n",
            "  Downloading MarkupSafe-2.1.5-cp311-cp311-manylinux_2_17_x86_64.manylinux2014_x86_64.whl.metadata (3.0 kB)\n",
            "Requirement already satisfied: numpy<3.0,>=1.0 in /usr/local/lib/python3.11/dist-packages (from gradio) (1.26.4)\n",
            "Requirement already satisfied: orjson~=3.0 in /usr/local/lib/python3.11/dist-packages (from gradio) (3.10.15)\n",
            "Requirement already satisfied: packaging in /usr/local/lib/python3.11/dist-packages (from gradio) (24.2)\n",
            "Requirement already satisfied: pandas<3.0,>=1.0 in /usr/local/lib/python3.11/dist-packages (from gradio) (2.2.2)\n",
            "Requirement already satisfied: pillow<12.0,>=8.0 in /usr/local/lib/python3.11/dist-packages (from gradio) (11.1.0)\n",
            "Requirement already satisfied: pydantic>=2.0 in /usr/local/lib/python3.11/dist-packages (from gradio) (2.10.5)\n",
            "Collecting pydub (from gradio)\n",
            "  Downloading pydub-0.25.1-py2.py3-none-any.whl.metadata (1.4 kB)\n",
            "Collecting python-multipart>=0.0.18 (from gradio)\n",
            "  Downloading python_multipart-0.0.20-py3-none-any.whl.metadata (1.8 kB)\n",
            "Requirement already satisfied: pyyaml<7.0,>=5.0 in /usr/local/lib/python3.11/dist-packages (from gradio) (6.0.2)\n",
            "Collecting ruff>=0.2.2 (from gradio)\n",
            "  Downloading ruff-0.9.3-py3-none-manylinux_2_17_x86_64.manylinux2014_x86_64.whl.metadata (25 kB)\n",
            "Collecting safehttpx<0.2.0,>=0.1.6 (from gradio)\n",
            "  Downloading safehttpx-0.1.6-py3-none-any.whl.metadata (4.2 kB)\n",
            "Collecting semantic-version~=2.0 (from gradio)\n",
            "  Downloading semantic_version-2.10.0-py2.py3-none-any.whl.metadata (9.7 kB)\n",
            "Collecting starlette<1.0,>=0.40.0 (from gradio)\n",
            "  Downloading starlette-0.45.3-py3-none-any.whl.metadata (6.3 kB)\n",
            "Collecting tomlkit<0.14.0,>=0.12.0 (from gradio)\n",
            "  Downloading tomlkit-0.13.2-py3-none-any.whl.metadata (2.7 kB)\n",
            "Requirement already satisfied: typer<1.0,>=0.12 in /usr/local/lib/python3.11/dist-packages (from gradio) (0.15.1)\n",
            "Requirement already satisfied: typing-extensions~=4.0 in /usr/local/lib/python3.11/dist-packages (from gradio) (4.12.2)\n",
            "Collecting uvicorn>=0.14.0 (from gradio)\n",
            "  Downloading uvicorn-0.34.0-py3-none-any.whl.metadata (6.5 kB)\n",
            "Requirement already satisfied: fsspec in /usr/local/lib/python3.11/dist-packages (from gradio-client==1.6.0->gradio) (2024.10.0)\n",
            "Requirement already satisfied: websockets<15.0,>=10.0 in /usr/local/lib/python3.11/dist-packages (from gradio-client==1.6.0->gradio) (14.2)\n",
            "Requirement already satisfied: distro<2,>=1.7.0 in /usr/local/lib/python3.11/dist-packages (from openai) (1.9.0)\n",
            "Requirement already satisfied: jiter<1,>=0.4.0 in /usr/local/lib/python3.11/dist-packages (from openai) (0.8.2)\n",
            "Requirement already satisfied: sniffio in /usr/local/lib/python3.11/dist-packages (from openai) (1.3.1)\n",
            "Requirement already satisfied: tqdm>4 in /usr/local/lib/python3.11/dist-packages (from openai) (4.67.1)\n",
            "Requirement already satisfied: idna>=2.8 in /usr/local/lib/python3.11/dist-packages (from anyio<5.0,>=3.0->gradio) (3.10)\n",
            "Requirement already satisfied: certifi in /usr/local/lib/python3.11/dist-packages (from httpx>=0.24.1->gradio) (2024.12.14)\n",
            "Requirement already satisfied: httpcore==1.* in /usr/local/lib/python3.11/dist-packages (from httpx>=0.24.1->gradio) (1.0.7)\n",
            "Requirement already satisfied: h11<0.15,>=0.13 in /usr/local/lib/python3.11/dist-packages (from httpcore==1.*->httpx>=0.24.1->gradio) (0.14.0)\n",
            "Requirement already satisfied: filelock in /usr/local/lib/python3.11/dist-packages (from huggingface-hub>=0.25.1->gradio) (3.17.0)\n",
            "Requirement already satisfied: requests in /usr/local/lib/python3.11/dist-packages (from huggingface-hub>=0.25.1->gradio) (2.32.3)\n",
            "Requirement already satisfied: python-dateutil>=2.8.2 in /usr/local/lib/python3.11/dist-packages (from pandas<3.0,>=1.0->gradio) (2.8.2)\n",
            "Requirement already satisfied: pytz>=2020.1 in /usr/local/lib/python3.11/dist-packages (from pandas<3.0,>=1.0->gradio) (2024.2)\n",
            "Requirement already satisfied: tzdata>=2022.7 in /usr/local/lib/python3.11/dist-packages (from pandas<3.0,>=1.0->gradio) (2025.1)\n",
            "Requirement already satisfied: annotated-types>=0.6.0 in /usr/local/lib/python3.11/dist-packages (from pydantic>=2.0->gradio) (0.7.0)\n",
            "Requirement already satisfied: pydantic-core==2.27.2 in /usr/local/lib/python3.11/dist-packages (from pydantic>=2.0->gradio) (2.27.2)\n",
            "Requirement already satisfied: click>=8.0.0 in /usr/local/lib/python3.11/dist-packages (from typer<1.0,>=0.12->gradio) (8.1.8)\n",
            "Requirement already satisfied: shellingham>=1.3.0 in /usr/local/lib/python3.11/dist-packages (from typer<1.0,>=0.12->gradio) (1.5.4)\n",
            "Requirement already satisfied: rich>=10.11.0 in /usr/local/lib/python3.11/dist-packages (from typer<1.0,>=0.12->gradio) (13.9.4)\n",
            "Requirement already satisfied: six>=1.5 in /usr/local/lib/python3.11/dist-packages (from python-dateutil>=2.8.2->pandas<3.0,>=1.0->gradio) (1.17.0)\n",
            "Requirement already satisfied: markdown-it-py>=2.2.0 in /usr/local/lib/python3.11/dist-packages (from rich>=10.11.0->typer<1.0,>=0.12->gradio) (3.0.0)\n",
            "Requirement already satisfied: pygments<3.0.0,>=2.13.0 in /usr/local/lib/python3.11/dist-packages (from rich>=10.11.0->typer<1.0,>=0.12->gradio) (2.18.0)\n",
            "Requirement already satisfied: charset-normalizer<4,>=2 in /usr/local/lib/python3.11/dist-packages (from requests->huggingface-hub>=0.25.1->gradio) (3.4.1)\n",
            "Requirement already satisfied: urllib3<3,>=1.21.1 in /usr/local/lib/python3.11/dist-packages (from requests->huggingface-hub>=0.25.1->gradio) (2.3.0)\n",
            "Requirement already satisfied: mdurl~=0.1 in /usr/local/lib/python3.11/dist-packages (from markdown-it-py>=2.2.0->rich>=10.11.0->typer<1.0,>=0.12->gradio) (0.1.2)\n",
            "Downloading gradio-5.13.1-py3-none-any.whl (57.6 MB)\n",
            "\u001b[2K   \u001b[90m━━━━━━━━━━━━━━━━━━━━━━━━━━━━━━━━━━━━━━━━\u001b[0m \u001b[32m57.6/57.6 MB\u001b[0m \u001b[31m13.9 MB/s\u001b[0m eta \u001b[36m0:00:00\u001b[0m\n",
            "\u001b[?25hDownloading gradio_client-1.6.0-py3-none-any.whl (321 kB)\n",
            "\u001b[2K   \u001b[90m━━━━━━━━━━━━━━━━━━━━━━━━━━━━━━━━━━━━━━━━\u001b[0m \u001b[32m321.8/321.8 kB\u001b[0m \u001b[31m23.4 MB/s\u001b[0m eta \u001b[36m0:00:00\u001b[0m\n",
            "\u001b[?25hDownloading aiofiles-23.2.1-py3-none-any.whl (15 kB)\n",
            "Downloading fastapi-0.115.7-py3-none-any.whl (94 kB)\n",
            "\u001b[2K   \u001b[90m━━━━━━━━━━━━━━━━━━━━━━━━━━━━━━━━━━━━━━━━\u001b[0m \u001b[32m94.8/94.8 kB\u001b[0m \u001b[31m6.7 MB/s\u001b[0m eta \u001b[36m0:00:00\u001b[0m\n",
            "\u001b[?25hDownloading MarkupSafe-2.1.5-cp311-cp311-manylinux_2_17_x86_64.manylinux2014_x86_64.whl (28 kB)\n",
            "Downloading python_multipart-0.0.20-py3-none-any.whl (24 kB)\n",
            "Downloading ruff-0.9.3-py3-none-manylinux_2_17_x86_64.manylinux2014_x86_64.whl (12.4 MB)\n",
            "\u001b[2K   \u001b[90m━━━━━━━━━━━━━━━━━━━━━━━━━━━━━━━━━━━━━━━━\u001b[0m \u001b[32m12.4/12.4 MB\u001b[0m \u001b[31m95.3 MB/s\u001b[0m eta \u001b[36m0:00:00\u001b[0m\n",
            "\u001b[?25hDownloading safehttpx-0.1.6-py3-none-any.whl (8.7 kB)\n",
            "Downloading semantic_version-2.10.0-py2.py3-none-any.whl (15 kB)\n",
            "Downloading starlette-0.45.3-py3-none-any.whl (71 kB)\n",
            "\u001b[2K   \u001b[90m━━━━━━━━━━━━━━━━━━━━━━━━━━━━━━━━━━━━━━━━\u001b[0m \u001b[32m71.5/71.5 kB\u001b[0m \u001b[31m6.2 MB/s\u001b[0m eta \u001b[36m0:00:00\u001b[0m\n",
            "\u001b[?25hDownloading tomlkit-0.13.2-py3-none-any.whl (37 kB)\n",
            "Downloading uvicorn-0.34.0-py3-none-any.whl (62 kB)\n",
            "\u001b[2K   \u001b[90m━━━━━━━━━━━━━━━━━━━━━━━━━━━━━━━━━━━━━━━━\u001b[0m \u001b[32m62.3/62.3 kB\u001b[0m \u001b[31m5.2 MB/s\u001b[0m eta \u001b[36m0:00:00\u001b[0m\n",
            "\u001b[?25hDownloading ffmpy-0.5.0-py3-none-any.whl (6.0 kB)\n",
            "Downloading pydub-0.25.1-py2.py3-none-any.whl (32 kB)\n",
            "Installing collected packages: pydub, uvicorn, tomlkit, semantic-version, ruff, python-multipart, markupsafe, ffmpy, aiofiles, starlette, safehttpx, gradio-client, fastapi, gradio\n",
            "  Attempting uninstall: markupsafe\n",
            "    Found existing installation: MarkupSafe 3.0.2\n",
            "    Uninstalling MarkupSafe-3.0.2:\n",
            "      Successfully uninstalled MarkupSafe-3.0.2\n",
            "Successfully installed aiofiles-23.2.1 fastapi-0.115.7 ffmpy-0.5.0 gradio-5.13.1 gradio-client-1.6.0 markupsafe-2.1.5 pydub-0.25.1 python-multipart-0.0.20 ruff-0.9.3 safehttpx-0.1.6 semantic-version-2.10.0 starlette-0.45.3 tomlkit-0.13.2 uvicorn-0.34.0\n"
          ]
        }
      ]
    },
    {
      "cell_type": "code",
      "source": [
        "import getpass\n",
        "\n",
        "FIRECRAWL_API_KEY = getpass.getpass(\"Firecrawl API Key: fc-9d02c90c0744478cae2d776ed696b37a\")"
      ],
      "metadata": {
        "colab": {
          "base_uri": "https://localhost:8080/"
        },
        "id": "fUfxnVNHHX5o",
        "outputId": "885829f4-e0d8-4a97-fbfa-c3e967136ec3"
      },
      "execution_count": 38,
      "outputs": [
        {
          "name": "stdout",
          "output_type": "stream",
          "text": [
            "Firecrawl API Key: fc-9d02c90c0744478cae2d776ed696b37a··········\n"
          ]
        }
      ]
    },
    {
      "cell_type": "code",
      "source": [
        "from firecrawl import FirecrawlApp\n",
        "\n",
        "app = FirecrawlApp(api_key=FIRECRAWL_API_KEY)"
      ],
      "metadata": {
        "id": "kXsk26KZHZjY"
      },
      "execution_count": 39,
      "outputs": []
    },
    {
      "cell_type": "code",
      "source": [
        "solo_leveling = app.scrape_url(\n",
        "    'https://solo-leveling.fandom.com/wiki/Solo_Leveling_Wiki',\n",
        "    params={'formats': ['markdown', 'html']})"
      ],
      "metadata": {
        "id": "2KuCe75mHbX-"
      },
      "execution_count": 5,
      "outputs": []
    },
    {
      "cell_type": "code",
      "source": [
        "import re\n",
        "\n",
        "def shorten_context(context, max_length=500):\n",
        "  \"\"\"Shortens context to a maximum length, keeping sentences intact.\"\"\"\n",
        "  sentences = re.split(r'(?<!\\w\\.\\w.)(?<![A-Z][a-z]\\.)(?<=\\.|\\?)\\s', context)\n",
        "  shortened_context = \"\"\n",
        "  for sentence in sentences:\n",
        "    if len(shortened_context) + len(sentence) <= max_length:\n",
        "      shortened_context += sentence\n",
        "    else:\n",
        "      break\n",
        "  return shortened_context"
      ],
      "metadata": {
        "id": "0fDKCVagPV9-"
      },
      "execution_count": 40,
      "outputs": []
    },
    {
      "cell_type": "code",
      "source": [
        "print(solo_leveling[\"markdown\"])\n",
        "solo_leveling_markdown = solo_leveling[\"markdown\"]"
      ],
      "metadata": {
        "colab": {
          "base_uri": "https://localhost:8080/"
        },
        "id": "V6V2knXwHdeJ",
        "outputId": "b55e9d07-c21f-4afa-b6f1-7bc088943b8c"
      },
      "execution_count": 41,
      "outputs": [
        {
          "output_type": "stream",
          "name": "stdout",
          "text": [
            "[Solo Leveling Wiki](https://solo-leveling.fandom.com/)\n",
            "\n",
            "[Search](https://solo-leveling.fandom.com/wiki/Special:Search \"Search\")[Discuss](https://solo-leveling.fandom.com/f \"Discuss\")[Light Theme](https://solo-leveling.fandom.com/wiki/Solo_Leveling_Wiki# \"Light Theme\")\n",
            "\n",
            "Don't have an account?\n",
            "\n",
            "[Register](https://auth.fandom.com/register?source=mw&redirect=https%3A%2F%2Fsolo-leveling.fandom.com%2Fwiki%2FSolo_Leveling_Wiki)\n",
            "\n",
            "* * *\n",
            "\n",
            "[Sign In](https://auth.fandom.com/signin?source=mw&redirect=https%3A%2F%2Fsolo-leveling.fandom.com%2Fwiki%2FSolo_Leveling_Wiki)\n",
            "\n",
            "[Fandom homepage](https://www.fandom.com/)\n",
            "\n",
            "[Solo Leveling Wiki](https://solo-leveling.fandom.com/)\n",
            "\n",
            "[Discuss](https://solo-leveling.fandom.com/f \"Discuss\")[Light Theme](https://solo-leveling.fandom.com/wiki/Solo_Leveling_Wiki# \"Light Theme\")\n",
            "\n",
            "[Sign In](https://auth.fandom.com/signin?source=mw&redirect=https%3A%2F%2Fsolo-leveling.fandom.com%2Fwiki%2FSolo_Leveling_Wiki)\n",
            "\n",
            "Don't have an account?\n",
            "\n",
            "[Register](https://auth.fandom.com/register?source=mw&redirect=https%3A%2F%2Fsolo-leveling.fandom.com%2Fwiki%2FSolo_Leveling_Wiki)\n",
            "\n",
            "* * *\n",
            "\n",
            "[Sign In](https://auth.fandom.com/signin?source=mw&redirect=https%3A%2F%2Fsolo-leveling.fandom.com%2Fwiki%2FSolo_Leveling_Wiki)\n",
            "\n",
            "Advertisement\n",
            "\n",
            "[Sign In](https://auth.fandom.com/signin?source=mw&redirect=https%3A%2F%2Fsolo-leveling.fandom.com%2Fwiki%2FSolo_Leveling_Wiki) [Register](https://auth.fandom.com/register?source=mw&redirect=https%3A%2F%2Fsolo-leveling.fandom.com%2Fwiki%2FSolo_Leveling_Wiki)\n",
            "\n",
            "[View source](https://solo-leveling.fandom.com/wiki/Solo_Leveling_Wiki?action=edit)\n",
            "\n",
            "# Home\n",
            "\n",
            "[View source](https://solo-leveling.fandom.com/wiki/Solo_Leveling_Wiki?action=edit)\n",
            "\n",
            "- [History](https://solo-leveling.fandom.com/wiki/Solo_Leveling_Wiki?action=history)\n",
            "- [Talk (0)](https://solo-leveling.fandom.com/wiki/Talk:Solo_Leveling_Wiki?action=edit&redlink=1)\n",
            "\n",
            "| **Welcome to the Wiki!** |\n",
            "| --- |\n",
            "| [![Site-logo](https://static.wikia.nocookie.net/solo-leveling/images/e/e6/Site-logo.png/revision/latest/scale-to-width-down/300?cb=20240811163630)](https://static.wikia.nocookie.net/solo-leveling/images/e/e6/Site-logo.png/revision/latest?cb=20240811163630)\n",
            "\n",
            "[![SL Chibis](https://static.wikia.nocookie.net/solo-leveling/images/3/35/SL_Chibis.png/revision/latest/scale-to-width-down/550?cb=20200322002106)](https://static.wikia.nocookie.net/solo-leveling/images/3/35/SL_Chibis.png/revision/latest?cb=20200322002106)\n",
            "\n",
            "|     |     |     |     |     |\n",
            "| --- | --- | --- | --- | --- |\n",
            "| **[Administrators](https://solo-leveling.fandom.com/wiki/Special:ListUsers/sysop \"Special:ListUsers/sysop\")** | **[Community Portal](https://solo-leveling.fandom.com/wiki/Solo_Leveling_Wiki:Community_Portal \"Solo Leveling Wiki:Community Portal\")** | **[Recent Changes](https://solo-leveling.fandom.com/wiki/Special:RecentChanges \"Special:RecentChanges\")** | **[New Photos](https://solo-leveling.fandom.com/wiki/Special:NewFiles \"Special:NewFiles\")** | **[Help The Wiki](https://help.fandom.com/wiki/ \"w:c:Help\")** |\n",
            "\n",
            "![Anime](https://static.wikia.nocookie.net/solo-leveling/images/0/0e/Anime_Season_2_large_visual_1.png/revision/latest/scale-to-width-down/670?cb=20240916112818)\n",
            "\n",
            "![Hunters](https://static.wikia.nocookie.net/solo-leveling/images/e/e0/CharacterSlider.png/revision/latest/scale-to-width-down/670?cb=20191207062500)\n",
            "\n",
            "![Shadows](https://static.wikia.nocookie.net/solo-leveling/images/8/81/ShadowsSlider.png/revision/latest/scale-to-width-down/670?cb=20191207062425)\n",
            "\n",
            "![Magic Beasts](<Base64-Image-Removed>)\n",
            "\n",
            "## Anime\n",
            "\n",
            "Season 2 Anime adaptation!\n",
            "\n",
            "[Read more >](https://solo-leveling.fandom.com/wiki/Solo_Leveling_Season_2)\n",
            "\n",
            "## Hunters\n",
            "\n",
            "Meet the hunters!\n",
            "\n",
            "[Read more >](https://solo-leveling.fandom.com/wiki/Hunters)\n",
            "\n",
            "## Shadows\n",
            "\n",
            "A summary and list of Jinwoo's shadows\n",
            "\n",
            "[Read more >](https://solo-leveling.fandom.com/wiki/Shadows)\n",
            "\n",
            "## Magic Beasts\n",
            "\n",
            "A list of all the Magic Beasts that appear in Solo Leveling\n",
            "\n",
            "[Read more >](https://solo-leveling.fandom.com/wiki/Magic_Beasts)\n",
            "\n",
            "![Anime](https://static.wikia.nocookie.net/solo-leveling/images/0/0e/Anime_Season_2_large_visual_1.png/revision/latest/scale-to-width-down/89?cb=20240916112818)\n",
            "\n",
            "![Hunters](https://static.wikia.nocookie.net/solo-leveling/images/e/e0/CharacterSlider.png/revision/latest/scale-to-width-down/97?cb=20191207062500)\n",
            "\n",
            "![Shadows](https://static.wikia.nocookie.net/solo-leveling/images/8/81/ShadowsSlider.png/revision/latest/scale-to-width-down/97?cb=20191207062425)\n",
            "\n",
            "![Magic Beasts](https://static.wikia.nocookie.net/solo-leveling/images/4/47/Slider_Img_2.png/revision/latest/scale-to-width-down/92?cb=20191207061314)\n",
            "\n",
            "* * *\n",
            "\n",
            "[![Novel](https://static.wikia.nocookie.net/solo-leveling/images/8/84/Solo_Leveling_Novel_cover.png/revision/latest/scale-to-width-down/125?cb=20190602071753)](https://solo-leveling.fandom.com/wiki/Solo_Leveling_(webnovel) \"Solo Leveling (webnovel) (458 KB)\")\n",
            "\n",
            "**[Novel](https://solo-leveling.fandom.com/wiki/Solo_Leveling_(webnovel) \"Solo Leveling (webnovel)\")**\n",
            "\n",
            "[![Webtoon](https://static.wikia.nocookie.net/solo-leveling/images/b/bf/Solo_Leveling_Returns.png/revision/latest/scale-to-width-down/133?cb=20200715031557)](https://solo-leveling.fandom.com/wiki/Solo_Leveling_(webtoon) \"Solo Leveling (webtoon) (1.87 MB)\")\n",
            "\n",
            "**[Webtoon](https://solo-leveling.fandom.com/wiki/Solo_Leveling_(webtoon) \"Solo Leveling (webtoon)\")**\n",
            "\n",
            "[![Game](https://static.wikia.nocookie.net/solo-leveling/images/5/50/Solo_Leveling-Arise_Video_Game_Visual.png/revision/latest/scale-to-width-down/139?cb=20240108200303)](https://solo-leveling.fandom.com/wiki/Solo_Leveling:ARISE \"Solo Leveling:ARISE (707 KB)\")\n",
            "\n",
            "**[Game](https://solo-leveling.fandom.com/wiki/Solo_Leveling:ARISE \"Solo Leveling:ARISE\")**\n",
            "\n",
            "[![Anime](https://static.wikia.nocookie.net/solo-leveling/images/5/50/Solo_Leveling_%28Preview_Poster%29.jpg/revision/latest/scale-to-width-down/131?cb=20240211213016)](https://solo-leveling.fandom.com/wiki/Solo_Leveling_(anime) \"Solo Leveling (anime) (124 KB)\")\n",
            "\n",
            "**[Anime](https://solo-leveling.fandom.com/wiki/Solo_Leveling_(anime) \"Solo Leveling (anime)\")**\n",
            "\n",
            "Welcome to the **Solo Leveling Wiki**! Please help us by creating or editing any of our articles! To edit articles, you must login or register to wikia.\n",
            "\n",
            "|     |     |     |     |     |     |     |     |     |\n",
            "| --- | --- | --- | --- | --- | --- | --- | --- | --- |\n",
            "|  |  | _6,913_pages | _485_articles | _2,948_files | _41,961_edits | _68_user(s) |  |  |\n",
            "\n",
            "**Note: This wiki contains spoilers, so read with caution!** |\n",
            "\n",
            "| **Synopsis** |\n",
            "| --- |\n",
            "| [![Solo Leveling Returns](https://static.wikia.nocookie.net/solo-leveling/images/b/bf/Solo_Leveling_Returns.png/revision/latest/scale-to-width-down/200?cb=20200715031557)](https://static.wikia.nocookie.net/solo-leveling/images/b/bf/Solo_Leveling_Returns.png/revision/latest?cb=20200715031557)<br>**Solo Leveling**(나 혼자만 레벨업) is a Korean web novel written by Chu-Gong (추공). It was first serialized by [Papyrus](http://www.ipapyrus.co.kr/) on November 4, 2016 and ended with 14 volumes and 270 chapters. On April 13, 2018, a webtoon serialization was released on [KakaoPage](https://page.kakao.com/), drawn by artists Gi So-Ryeong (기소령) and Jang Sung-Rak (장성락). It officially concluded on December 29, 2021 with 179 chapters released. A spin-off webtoon series based on the web novel's side stories was launched roughly 13 months later on January 20, 2023 and ended on May 31st, 2023, with 21 chapters released.<br>* * *<br>In a world where [hunters](https://solo-leveling.fandom.com/wiki/Hunters \"Hunters\"), human warriors who possess magical abilities, must battle deadly monsters to protect mankind from certain annihilation, a notoriously weak hunter named [Sung Jinwoo](https://solo-leveling.fandom.com/wiki/Sung_Jinwoo \"Sung Jinwoo\") finds himself in a seemingly endless struggle for survival. One day, after narrowly surviving an overwhelmingly powerful dungeon that nearly wipes out his entire party, a mysterious program called the [System](https://solo-leveling.fandom.com/wiki/System \"System\") chooses him as its sole player and in turn, gives him the extremely rare ability to level up in strength, possibly beyond any known limits. Follow Jinwoo's journey as he fights against all kinds of enemies, both man and monster, to discover the secrets of the dungeons and the true source of his powers. |\n",
            "\n",
            "| **[Characters](https://solo-leveling.fandom.com/wiki/Characters \"Characters\")** |\n",
            "| --- |\n",
            "| |     |\n",
            "| --- |\n",
            "| - [S-RANK HUNTERS](https://solo-leveling.fandom.com/wiki/Solo_Leveling_Wiki#)<br>  <br>- [A-E RANK HUNTERS](https://solo-leveling.fandom.com/wiki/Solo_Leveling_Wiki#)<br>  <br>- [HUMANS](https://solo-leveling.fandom.com/wiki/Solo_Leveling_Wiki#)<br>  <br>- [MONARCHS](https://solo-leveling.fandom.com/wiki/Solo_Leveling_Wiki#)<br>  <br>- [MAGIC BEASTS](https://solo-leveling.fandom.com/wiki/Solo_Leveling_Wiki#)<br>  <br>- [SHADOWS](https://solo-leveling.fandom.com/wiki/Solo_Leveling_Wiki#)<br>  <br>[![Sung Jinwoo](https://static.wikia.nocookie.net/solo-leveling/images/8/8b/Jinwoo4.jpg/revision/latest/scale-to-width-down/147?cb=20210803222649)](https://solo-leveling.fandom.com/wiki/Sung_Jinwoo \"Sung Jinwoo (98 KB)\") <br>[Sung Jinwoo](https://solo-leveling.fandom.com/wiki/Sung_Jinwoo \"Sung Jinwoo\")<br>[![Cha Hae-In](https://static.wikia.nocookie.net/solo-leveling/images/9/91/Cha_Hae-In.png/revision/latest/scale-to-width-down/140?cb=20240119133508)](https://solo-leveling.fandom.com/wiki/Cha_Hae-In \"Cha Hae-In (385 KB)\") <br>[Cha Hae-In](https://solo-leveling.fandom.com/wiki/Cha_Hae-In \"Cha Hae-In\")<br>[![Thomas Andre](https://static.wikia.nocookie.net/solo-leveling/images/2/23/Andre1.jpg/revision/latest/scale-to-width-down/140?cb=20211103151323)](https://solo-leveling.fandom.com/wiki/Thomas_Andre \"Thomas Andre (72 KB)\") <br>[Thomas Andre](https://solo-leveling.fandom.com/wiki/Thomas_Andre \"Thomas Andre\")<br>[![Liu Zhigang](https://static.wikia.nocookie.net/solo-leveling/images/a/a3/Zhigang8.jpg/revision/latest/scale-to-width-down/152?cb=20210427152441)](https://solo-leveling.fandom.com/wiki/Liu_Zhigang \"Liu Zhigang (66 KB)\") <br>[Liu Zhigang](https://solo-leveling.fandom.com/wiki/Liu_Zhigang \"Liu Zhigang\")<br>[![Christopher Reed](https://static.wikia.nocookie.net/solo-leveling/images/f/fd/Chris3.jpg/revision/latest/scale-to-width-down/163?cb=20210815033515)](https://solo-leveling.fandom.com/wiki/Christopher_Reed \"Christopher Reed (99 KB)\") <br>[Christopher Reed](https://solo-leveling.fandom.com/wiki/Christopher_Reed \"Christopher Reed\")<br>[![Sung Il-Hwan](https://static.wikia.nocookie.net/solo-leveling/images/5/54/%EC%9D%BC%ED%99%981.jpg/revision/latest/scale-to-width-down/145?cb=20240511115839)](https://solo-leveling.fandom.com/wiki/Sung_Il-Hwan \"Sung Il-Hwan (97 KB)\") <br>[Sung Il-Hwan](https://solo-leveling.fandom.com/wiki/Sung_Il-Hwan \"Sung Il-Hwan\")<br>[![Sung Suho](https://static.wikia.nocookie.net/solo-leveling/images/2/2c/Suho5.jpg/revision/latest/scale-to-width-down/140?cb=20230926142016)](https://solo-leveling.fandom.com/wiki/Sung_Suho \"Sung Suho (253 KB)\") <br>[Sung Suho](https://solo-leveling.fandom.com/wiki/Sung_Suho \"Sung Suho\")<br>[![Go Gunhee](https://static.wikia.nocookie.net/solo-leveling/images/c/c3/Gunhee1.jpg/revision/latest/scale-to-width-down/147?cb=20210310223812)](https://solo-leveling.fandom.com/wiki/Go_Gunhee \"Go Gunhee (91 KB)\") <br>[Go Gunhee](https://solo-leveling.fandom.com/wiki/Go_Gunhee \"Go Gunhee\")<br>[![Goto Ryuji](https://static.wikia.nocookie.net/solo-leveling/images/9/96/Goto5.jpg/revision/latest/scale-to-width-down/160?cb=20240511115641)](https://solo-leveling.fandom.com/wiki/Goto_Ryuji \"Goto Ryuji (147 KB)\") <br>[Goto Ryuji](https://solo-leveling.fandom.com/wiki/Goto_Ryuji \"Goto Ryuji\")<br>[![Lennart Niermann](https://static.wikia.nocookie.net/solo-leveling/images/b/b7/Lennart10.jpg/revision/latest/scale-to-width-down/142?cb=20211105053228)](https://solo-leveling.fandom.com/wiki/Lennart_Niermann \"Lennart Niermann (46 KB)\") <br>[Lennart Niermann](https://solo-leveling.fandom.com/wiki/Lennart_Niermann \"Lennart Niermann\")<br>[![Hwang Dongsoo](https://static.wikia.nocookie.net/solo-leveling/images/1/1c/Dongsoo2.jpg/revision/latest/scale-to-width-down/140?cb=20210322165417)](https://solo-leveling.fandom.com/wiki/Hwang_Dongsoo \"Hwang Dongsoo (50 KB)\") <br>[Hwang Dongsoo](https://solo-leveling.fandom.com/wiki/Hwang_Dongsoo \"Hwang Dongsoo\")<br>[![Baek Yoonho](https://static.wikia.nocookie.net/solo-leveling/images/3/37/Baek11.jpg/revision/latest/scale-to-width-down/140?cb=20211107160121)](https://solo-leveling.fandom.com/wiki/Baek_Yoonho \"Baek Yoonho (138 KB)\") <br>[Baek Yoonho](https://solo-leveling.fandom.com/wiki/Baek_Yoonho \"Baek Yoonho\")<br>[![Choi Jong-In](https://static.wikia.nocookie.net/solo-leveling/images/f/f8/Choi20.jpg/revision/latest/scale-to-width-down/144?cb=20211107161722)](https://solo-leveling.fandom.com/wiki/Choi_Jong-In \"Choi Jong-In (132 KB)\") <br>[Choi Jong-In](https://solo-leveling.fandom.com/wiki/Choi_Jong-In \"Choi Jong-In\")<br>[![Lim Tae-Gyu](https://static.wikia.nocookie.net/solo-leveling/images/e/ed/Lim12.jpg/revision/latest/scale-to-width-down/149?cb=20211107163525)](https://solo-leveling.fandom.com/wiki/Lim_Tae-Gyu \"Lim Tae-Gyu (64 KB)\") <br>[Lim Tae-Gyu](https://solo-leveling.fandom.com/wiki/Lim_Tae-Gyu \"Lim Tae-Gyu\")<br>[![Ma Dongwook](https://static.wikia.nocookie.net/solo-leveling/images/6/6c/Ma.png/revision/latest/scale-to-width-down/144?cb=20210803231350)](https://solo-leveling.fandom.com/wiki/Ma_Dongwook \"Ma Dongwook (664 KB)\") <br>[Ma Dongwook](https://solo-leveling.fandom.com/wiki/Ma_Dongwook \"Ma Dongwook\")<br>[![Min Byung-Gyu](https://static.wikia.nocookie.net/solo-leveling/images/a/af/%EB%B3%91%EA%B7%9C1.jpg/revision/latest/scale-to-width-down/140?cb=20211107160712)](https://solo-leveling.fandom.com/wiki/Min_Byung-Gyu \"Min Byung-Gyu (160 KB)\") <br>[Min Byung-Gyu](https://solo-leveling.fandom.com/wiki/Min_Byung-Gyu \"Min Byung-Gyu\")<br>[![Woo Jinchul](<Base64-Image-Removed>)](https://solo-leveling.fandom.com/wiki/Woo_Jinchul \"Woo Jinchul (104 KB)\") <br>[Woo Jinchul](https://solo-leveling.fandom.com/wiki/Woo_Jinchul \"Woo Jinchul\")<br>[![Kim Chul](<Base64-Image-Removed>)](https://solo-leveling.fandom.com/wiki/Kim_Chul \"Kim Chul (199 KB)\") <br>[Kim Chul](https://solo-leveling.fandom.com/wiki/Kim_Chul \"Kim Chul\")<br>[![Lee Minsung](<Base64-Image-Removed>)](https://solo-leveling.fandom.com/wiki/Lee_Minsung \"Lee Minsung (163 KB)\") <br>[Lee Minsung](https://solo-leveling.fandom.com/wiki/Lee_Minsung \"Lee Minsung\")<br>[![Hanekawa](<Base64-Image-Removed>)](https://solo-leveling.fandom.com/wiki/Hanekawa \"Hanekawa (89 KB)\") <br>[Hanekawa](https://solo-leveling.fandom.com/wiki/Hanekawa \"Hanekawa\")<br>[![Park Jongsoo](<Base64-Image-Removed>)](https://solo-leveling.fandom.com/wiki/Park_Jongsoo \"Park Jongsoo (65 KB)\") <br>[Park Jongsoo](https://solo-leveling.fandom.com/wiki/Park_Jongsoo \"Park Jongsoo\")<br>[![Jung Yerim](<Base64-Image-Removed>)](https://solo-leveling.fandom.com/wiki/Jung_Yerim \"Jung Yerim (120 KB)\") <br>[Jung Yerim](https://solo-leveling.fandom.com/wiki/Jung_Yerim \"Jung Yerim\")<br>[![Jung Yoontae](<Base64-Image-Removed>)](https://solo-leveling.fandom.com/wiki/Jung_Yoontae \"Jung Yoontae (35 KB)\") <br>[Jung Yoontae](https://solo-leveling.fandom.com/wiki/Jung_Yoontae \"Jung Yoontae\")<br>[![Yoo Soohyun](<Base64-Image-Removed>)](https://solo-leveling.fandom.com/wiki/Yoo_Soohyun \"Yoo Soohyun (148 KB)\") <br>[Yoo Soohyun](https://solo-leveling.fandom.com/wiki/Yoo_Soohyun \"Yoo Soohyun\")<br>[![Park Heejin](<Base64-Image-Removed>)](https://solo-leveling.fandom.com/wiki/Park_Heejin \"Park Heejin (141 KB)\") <br>[Park Heejin](https://solo-leveling.fandom.com/wiki/Park_Heejin \"Park Heejin\")<br>[![Lee Joohee](<Base64-Image-Removed>)](https://solo-leveling.fandom.com/wiki/Lee_Joohee \"Lee Joohee (138 KB)\") <br>[Lee Joohee](https://solo-leveling.fandom.com/wiki/Lee_Joohee \"Lee Joohee\")<br>[![Kang Taeshik](<Base64-Image-Removed>)](https://solo-leveling.fandom.com/wiki/Kang_Taeshik \"Kang Taeshik (107 KB)\") <br>[Kang Taeshik](https://solo-leveling.fandom.com/wiki/Kang_Taeshik \"Kang Taeshik\")<br>[![Song Chi-Yul](<Base64-Image-Removed>)](https://solo-leveling.fandom.com/wiki/Song_Chi-Yul \"Song Chi-Yul (42 KB)\") <br>[Song Chi-Yul](https://solo-leveling.fandom.com/wiki/Song_Chi-Yul \"Song Chi-Yul\")<br>[![Hwang Dongsuk](<Base64-Image-Removed>)](https://solo-leveling.fandom.com/wiki/Hwang_Dongsuk \"Hwang Dongsuk (72 KB)\") <br>[Hwang Dongsuk](https://solo-leveling.fandom.com/wiki/Hwang_Dongsuk \"Hwang Dongsuk\")<br>[![Kim Sangshik](<Base64-Image-Removed>)](https://solo-leveling.fandom.com/wiki/Kim_Sangshik \"Kim Sangshik (86 KB)\") <br>[Kim Sangshik](https://solo-leveling.fandom.com/wiki/Kim_Sangshik \"Kim Sangshik\")<br>[![Yoo Jinho](<Base64-Image-Removed>)](https://solo-leveling.fandom.com/wiki/Yoo_Jinho \"Yoo Jinho (129 KB)\") <br>[Yoo Jinho](https://solo-leveling.fandom.com/wiki/Yoo_Jinho \"Yoo Jinho\")<br>[![Han Song-Yi](<Base64-Image-Removed>)](https://solo-leveling.fandom.com/wiki/Han_Song-Yi \"Han Song-Yi (56 KB)\") <br>[Han Song-Yi](https://solo-leveling.fandom.com/wiki/Han_Song-Yi \"Han Song-Yi\")<br>[![Adam White](<Base64-Image-Removed>)](https://solo-leveling.fandom.com/wiki/Adam_White \"Adam White (96 KB)\") <br>[Adam White](https://solo-leveling.fandom.com/wiki/Adam_White \"Adam White\")<br>[![David Brennon](<Base64-Image-Removed>)](https://solo-leveling.fandom.com/wiki/David_Brennon \"David Brennon (151 KB)\") <br>[David Brennon](https://solo-leveling.fandom.com/wiki/David_Brennon \"David Brennon\")<br>[![Laura](<Base64-Image-Removed>)](https://solo-leveling.fandom.com/wiki/Laura \"Laura (76 KB)\") <br>[Laura](https://solo-leveling.fandom.com/wiki/Laura \"Laura\")<br>[![Matsumoto Shigeo](<Base64-Image-Removed>)](https://solo-leveling.fandom.com/wiki/Matsumoto_Shigeo \"Matsumoto Shigeo (122 KB)\") <br>[Matsumoto Shigeo](https://solo-leveling.fandom.com/wiki/Matsumoto_Shigeo \"Matsumoto Shigeo\")<br>[![Norma Selner](<Base64-Image-Removed>)](https://solo-leveling.fandom.com/wiki/Norma_Selner \"Norma Selner (157 KB)\") <br>[Norma Selner](https://solo-leveling.fandom.com/wiki/Norma_Selner \"Norma Selner\")<br>[![Park Kyung-Hye](<Base64-Image-Removed>)](https://solo-leveling.fandom.com/wiki/Park_Kyung-Hye \"Park Kyung-Hye (115 KB)\") <br>[Park Kyung-Hye](https://solo-leveling.fandom.com/wiki/Park_Kyung-Hye \"Park Kyung-Hye\")<br>[![Sung Jinah](<Base64-Image-Removed>)](https://solo-leveling.fandom.com/wiki/Sung_Jinah \"Sung Jinah (141 KB)\") <br>[Sung Jinah](https://solo-leveling.fandom.com/wiki/Sung_Jinah \"Sung Jinah\")<br>[![Yoo Myunghan](<Base64-Image-Removed>)](https://solo-leveling.fandom.com/wiki/Yoo_Myunghan \"Yoo Myunghan (99 KB)\") <br>[Yoo Myunghan](https://solo-leveling.fandom.com/wiki/Yoo_Myunghan \"Yoo Myunghan\")<br>[![Antares](<Base64-Image-Removed>)](https://solo-leveling.fandom.com/wiki/Antares \"Antares (126 KB)\") <br>[Antares](https://solo-leveling.fandom.com/wiki/Antares \"Antares\")<br>[![Ashborn](<Base64-Image-Removed>)](https://solo-leveling.fandom.com/wiki/Ashborn \"Ashborn (115 KB)\") <br>[Ashborn](https://solo-leveling.fandom.com/wiki/Ashborn \"Ashborn\")<br>[![Baran](<Base64-Image-Removed>)](https://solo-leveling.fandom.com/wiki/Baran \"Baran (175 KB)\") <br>[Baran](https://solo-leveling.fandom.com/wiki/Baran \"Baran\")<br>[![Rakan](<Base64-Image-Removed>)](https://solo-leveling.fandom.com/wiki/Rakan \"Rakan (118 KB)\") <br>[Rakan](https://solo-leveling.fandom.com/wiki/Rakan \"Rakan\")<br>[![Sillad](<Base64-Image-Removed>)](https://solo-leveling.fandom.com/wiki/Sillad \"Sillad (109 KB)\") <br>[Sillad](https://solo-leveling.fandom.com/wiki/Sillad \"Sillad\")<br>[![Tarnak](<Base64-Image-Removed>)](https://solo-leveling.fandom.com/wiki/Tarnak \"Tarnak (200 KB)\") <br>[Tarnak](https://solo-leveling.fandom.com/wiki/Tarnak \"Tarnak\")<br>[![Legia](<Base64-Image-Removed>)](https://solo-leveling.fandom.com/wiki/Legia \"Legia (105 KB)\") <br>[Legia](https://solo-leveling.fandom.com/wiki/Legia \"Legia\")<br>[![Querehsha](<Base64-Image-Removed>)](https://solo-leveling.fandom.com/wiki/Querehsha \"Querehsha (163 KB)\") <br>[Querehsha](https://solo-leveling.fandom.com/wiki/Querehsha \"Querehsha\")<br>[![Yogumunt](<Base64-Image-Removed>)](https://solo-leveling.fandom.com/wiki/Yogumunt \"Yogumunt (61 KB)\") <br>[Yogumunt](https://solo-leveling.fandom.com/wiki/Yogumunt \"Yogumunt\")<br>[![Architect](<Base64-Image-Removed>)](https://solo-leveling.fandom.com/wiki/Architect \"Architect (88 KB)\") <br>[Architect](https://solo-leveling.fandom.com/wiki/Architect \"Architect\")<br>[![Ant King](<Base64-Image-Removed>)](https://solo-leveling.fandom.com/wiki/Ant_King \"Ant King (217 KB)\") <br>[Ant King](https://solo-leveling.fandom.com/wiki/Ant_King \"Ant King\")<br>[![Baruka](<Base64-Image-Removed>)](https://solo-leveling.fandom.com/wiki/Baruka \"Baruka (163 KB)\") <br>[Baruka](https://solo-leveling.fandom.com/wiki/Baruka \"Baruka\")<br>[![Blood-Red Commander Igris](<Base64-Image-Removed>)](https://solo-leveling.fandom.com/wiki/Blood-Red_Commander_Igris \"Blood-Red Commander Igris (159 KB)\") <br>[Blood-Red Commander Igris](https://solo-leveling.fandom.com/wiki/Blood-Red_Commander_Igris \"Blood-Red Commander Igris\")<br>[![Cerberus](<Base64-Image-Removed>)](https://solo-leveling.fandom.com/wiki/Cerberus \"Cerberus (158 KB)\") <br>[Cerberus](https://solo-leveling.fandom.com/wiki/Cerberus \"Cerberus\")<br>[![Esil Radiru](<Base64-Image-Removed>)](https://solo-leveling.fandom.com/wiki/Esil_Radiru \"Esil Radiru (132 KB)\") <br>[Esil Radiru](https://solo-leveling.fandom.com/wiki/Esil_Radiru \"Esil Radiru\")<br>[![Groctar](<Base64-Image-Removed>)](https://solo-leveling.fandom.com/wiki/Groctar \"Groctar (125 KB)\") <br>[Groctar](https://solo-leveling.fandom.com/wiki/Groctar \"Groctar\")<br>[![Kamish](<Base64-Image-Removed>)](https://solo-leveling.fandom.com/wiki/Kamish \"Kamish (186 KB)\") <br>[Kamish](https://solo-leveling.fandom.com/wiki/Kamish \"Kamish\")<br>[![Kargalgan](<Base64-Image-Removed>)](https://solo-leveling.fandom.com/wiki/Kargalgan \"Kargalgan (176 KB)\") <br>[Kargalgan](https://solo-leveling.fandom.com/wiki/Kargalgan \"Kargalgan\")<br>[![Vulcan](<Base64-Image-Removed>)](https://solo-leveling.fandom.com/wiki/Vulcan \"Vulcan (181 KB)\") <br>[Vulcan](https://solo-leveling.fandom.com/wiki/Vulcan \"Vulcan\")<br>[![Bellion](<Base64-Image-Removed>)](https://solo-leveling.fandom.com/wiki/Bellion \"Bellion (181 KB)\") <br>[Bellion](https://solo-leveling.fandom.com/wiki/Bellion \"Bellion\")<br>[![Beru](<Base64-Image-Removed>)](https://solo-leveling.fandom.com/wiki/Beru \"Beru (280 KB)\") <br>[Beru](https://solo-leveling.fandom.com/wiki/Beru \"Beru\")<br>[![Igris](<Base64-Image-Removed>)](https://solo-leveling.fandom.com/wiki/Igris \"Igris (105 KB)\") <br>[Igris](https://solo-leveling.fandom.com/wiki/Igris \"Igris\")<br>[![Greed](<Base64-Image-Removed>)](https://solo-leveling.fandom.com/wiki/Greed \"Greed (171 KB)\") <br>[Greed](https://solo-leveling.fandom.com/wiki/Greed \"Greed\")<br>[![Tusk](<Base64-Image-Removed>)](https://solo-leveling.fandom.com/wiki/Tusk \"Tusk (330 KB)\") <br>[Tusk](https://solo-leveling.fandom.com/wiki/Tusk \"Tusk\")<br>[![Iron](<Base64-Image-Removed>)](https://solo-leveling.fandom.com/wiki/Iron \"Iron (139 KB)\") <br>[Iron](https://solo-leveling.fandom.com/wiki/Iron \"Iron\")<br>[![Kaisel](<Base64-Image-Removed>)](https://solo-leveling.fandom.com/wiki/Kaisel \"Kaisel (195 KB)\") <br>[Kaisel](https://solo-leveling.fandom.com/wiki/Kaisel \"Kaisel\")<br>[![Jima](<Base64-Image-Removed>)](https://solo-leveling.fandom.com/wiki/Jima \"Jima (147 KB)\") <br>[Jima](https://solo-leveling.fandom.com/wiki/Jima \"Jima\")<br>[![Tank](<Base64-Image-Removed>)](https://solo-leveling.fandom.com/wiki/Tank \"Tank (68 KB)\") <br>[Tank](https://solo-leveling.fandom.com/wiki/Tank \"Tank\") | |\n",
            "\n",
            "| **Featured Article** |\n",
            "| --- |\n",
            "| [![Solo Leveling Webtoon cover](https://static.wikia.nocookie.net/solo-leveling/images/f/fb/%EC%99%956.jpg/revision/latest/scale-to-width-down/200?cb=20240312195156)](https://static.wikia.nocookie.net/solo-leveling/images/f/fb/%EC%99%956.jpg/revision/latest?cb=20240312195156 \"Solo Leveling Webtoon cover\")<br>The **Ant King** (왕) was the hidden boss of the [Jeju Island S-Rank Gate](https://solo-leveling.fandom.com/wiki/Jeju_Island_S-Rank_Gate \"Jeju Island S-Rank Gate\"). He was also one of the strongest magic beasts introduced in the series and was able to not only effortlessly slaughter seven Japanese S-Ranks, including [Goto Ryuji](https://solo-leveling.fandom.com/wiki/Goto_Ryuji \"Goto Ryuji\"), with 1-2 attacks each, but also hold his own against [Sung Jinwoo](https://solo-leveling.fandom.com/wiki/Sung_Jinwoo \"Sung Jinwoo\") in a fight for a considerable amount of time before ultimately being defeated. Uniquely, the Ant King was also able to absorb the skills and knowledge of his opponents by consuming their heads, which in turn gave him the ability to communicate perfectly in human languages.<br>For more information, click **[Ant King](https://solo-leveling.fandom.com/wiki/Ant_King \"Ant King\")**. |\n",
            "\n",
            "| **Helping Out in the Wiki** |\n",
            "| --- |\n",
            "| Our wiki content is still lacking but with the growing popularity of the series **Solo Leveling**, we would love to have more hands in updating and content management. Your contributions are always welcome.**Not sure how to begin?**We are currently working on making our articles informative and uniform. Read and follow our guidelines here:<br>- [Manual of Style](https://solo-leveling.fandom.com/wiki/Solo_Leveling:Manual_of_Style \"Solo Leveling:Manual of Style\")<br>- [Editing Policy](https://solo-leveling.fandom.com/wiki/Solo_Leveling:Editing_Policy \"Solo Leveling:Editing Policy\")<br>Notice a spelling error, or misinformation? Go edit it! We really would appreciate it here at the Solo Leveling Fandom Community! It would be really nice if you could help us prove that to everyone! The greatest way to start off is to join our community.<br>[Join Us](https://solo-leveling.fandom.com/wiki/Special:CreateAccount \"Special:CreateAccount\")<br>If you would like to suggest an article, category or other page that you think should be created but you don't feel you can create it yourself, describe what you want at our **[DISCUSSION](https://solo-leveling.fandom.com/d/f)**. Here you can also discuss the members, shippings and share your views/opinions with other Solo Leveling fans like you.<br>Or if you would like to share something exclusive with us, write your own blog!<br>Write Your Blog<br>You can find a list of handy templates [here](https://solo-leveling.fandom.com/wiki/Category:Templates \"Category:Templates\"). |\n",
            "\n",
            "| **Affiliations** |\n",
            "| --- |\n",
            "| [![Wiki-wordmark.png](https://omniscient-readers-viewpoint.fandom.com/wiki/Special:Filepath/Wiki-wordmark.png)](https://omniscient-readers-viewpoint.fandom.com/)<br>[![Wiki-wordmark.png](https://noblesse.fandom.com/wiki/Special:Filepath/Wiki-wordmark.png)](https://noblesse.fandom.com/)<br>[![Wiki-wordmark.png](https://towerofgod.fandom.com/wiki/Special:Filepath/Wiki-wordmark.png)](https://towerofgod.fandom.com/)<br>[![Wiki-wordmark.png](https://true-beauty.fandom.com/wiki/Special:Filepath/Wiki-wordmark.png)](https://true-beauty.fandom.com/)<br>[![Wiki-wordmark.png](https://promised-orchid.fandom.com/wiki/Special:Filepath/Wiki-wordmark.png)](https://promised-orchid.fandom.com/)<br>[![Wiki-wordmark.png](https://study-group.fandom.com/wiki/Special:Filepath/Wiki-wordmark.png)](https://study-group.fandom.com/)<br>[![Wiki-wordmark.png](https://hardcorelevelingwarrior.fandom.com/wiki/Special:Filepath/Wiki-wordmark.png)](https://hardcorelevelingwarrior.fandom.com/)<br>[![Wiki-wordmark.png](https://my-deepest-secret.fandom.com/wiki/Special:Filepath/Wiki-wordmark.png)](https://my-deepest-secret.fandom.com/)<br>[![Wiki-wordmark.png](https://solo-leveling-arise.fandom.com/wiki/Special:Filepath/Wiki-wordmark.png)](https://solo-leveling-arise.fandom.com/) |\n",
            "\n",
            "| **Join the Discord!** |\n",
            "| --- |\n",
            "| Discord Widget<br>**10067** Members Online<br>Members Online<br>![](https://cdn.discordapp.com/widget-avatars/4EZJgON9v5j7FQ0vQ2wjRRaNpOkXt1E-F1iP46sRZi8/Qe1n4rSw0XpatiZXYs6N-mHt56nErOcGSorsz71cFgvj8dnlW9SU1AyKiHzJJaf34k1pwa56XGjM2lgRI6p8EGZAjWlfuKJ_2NGqxcAnJbjUlACjEpAp2nnsLBTirIsfjKWcA7tAaupLrl0)<br>$ Sam<br>![](https://cdn.discordapp.com/widget-avatars/s-IPuI9qM2UlBrZb0Y25W_r5Devb7NhUh5290b6BPXg/EftqZjtwREq12Ynz5BM6pTbTqr7KkWrmWwgyURoM6HKsNdux6YYst_ERnev4JyG7RTwLDQiEI6E4ZILEzgDqyR6A9fHUTgIZjG2MgsSffph1CuhrSacJ1H5u0G7_W5LSinmErKUxaPrwtw)<br>3oBv<br>![](https://cdn.discordapp.com/widget-avatars/TlGsXqqjpJ-L1udg9NL2Q2K1uDprOFi2CBDmZm6SXzA/oDeE2XhX12A3MVReXQJqU2RjcPqZlpzfunYeKoKtUvJqR6y7GPPwk5qX-aMHMcvY9AJfS_BMzUCDkux4QmcEHfnJpMohchunAhnKNrhvsSEvTav6DhivWh2Abm7JlUEWpB5E3WacGtL9yw)<br>\\[̲̅M\\]\\[̲̅x\\]\\[̲̅4\\]\\[̲̅D\\]<br>![](https://cdn.discordapp.com/widget-avatars/G9DcJBrG6QP_S_ZPRGa5FS6RO8DbBVT_odX5TKAC02Y/mwg0ssLNNM2WiRDJMogUKFlgkOe-93q7xOyoRGcOYgCC70_40KGj9c4wOnoJXsKGrdYufTSo9IMD82AQKU1H38DIPWATi9YnZ9TAAee4KiUU-KBq2MwKMksWLMBGeqzfgr_8aiZxISgipQ)<br>abu<br>![](https://cdn.discordapp.com/widget-avatars/sHuE5kva_kG33bwXY91p9xDz2OrIUZSA9R970vcOg_M/KBlsErG7SM0tKbpI3EwljnfLuTOSKR832JVIqpccqj4qLYCXNMKPzONR6ySrzCsKc3EQTWAXMklqKHg5P-y-6iBvQKGvYGeMWYwRtP-hWqCjZB0DAP0dFMWuhDrH2zLLcCr45o95pI17QQ)<br>AdventoftheSage<br>![](https://cdn.discordapp.com/widget-avatars/RRshrsZyPaOfrx7VSHXlMjmBPtvzQRNi0jXxbj_Yhbk/3R-O0cm60QVSDrl7XGIjj4ZspnR5hMxdBwdA58-cj4LGR6h3Uq0sei6Du0nRDJ_h2tT09OpNxSqEzDdW4C-2N9NQ53zbm_S9GOGuVcBrP-tsxOdr4UXO4MADNMuvQHXZiI3HduitGAjOUQ)<br>Ampere<br>![](https://cdn.discordapp.com/widget-avatars/jtAQ87YSP-Xt-hebg9Gr7YMVaOuMNg-pCkK4Fo61FB4/-yqG6f--uflr77EJPW1VJCUTEewzbv529KPv93WkeiOF_31C6fL13XyFtvJI4kMLyu-84Kz7t4R82-wumtBzM0ubhYc5JvN22kesDOWOunGju9Kmc-F8airfSp0TNPIL2XzKo2KvcINIPA)<br>arek<br>![](https://cdn.discordapp.com/widget-avatars/CAlnFXTldm2vfnqg_6jz8CSJWCuzNEDJfU-9pwfst9o/CgzZZ6eJLGK3lwzm2atkPyrOj5amVZoEv3FTS2RZtRAyC-26aPDb-y9Z8XYX5Q7zMyi9jpmNejgXOa05OjTDI9tDtraGfSFDOKY4uPLpD_ctnx3gT7m9fowsy053pjiZKFn_hUm6yL8SMg)<br>Astra<br>![](https://cdn.discordapp.com/widget-avatars/PMNDmViZWE0DrRAOLisBVYn-qFf6n8FGj6w5gq3vUak/olQ_OPRkkf3NvDHjupvlSgFmfz8ijcEGMtBeYjGeXzWQYyowUViTnH2md6BASfYs1K9mb036knxBwAXmRKJCPis9c9uuHRqqfrQmfJ0ovlGbm9ceVSOgD2rOpW6ZoIaNHzpGU7AZSc-nYg)<br>Asura<br>![](https://cdn.discordapp.com/widget-avatars/vguKX40oI9S95XaVYDCbC1IhLKlD6Hd_2dD49lbxXCs/TEJ3zEcjXeHpCx98Pl3NNwH8wAFdPN39-cdkSuirjPxn-amj7urk5uWsXlZ1BTlEUtubxVO24fibYTDkOeimwj3GrlkP9XICY--GkU6E3eraha1S72t_vUhmpRUihkHJZFKs8XikLTH-Qw)<br>Austerrific<br>![](https://cdn.discordapp.com/widget-avatars/HfgiE2bVUga3bFHxX9UBeS_FCsVITtqCadqpHCNwHS0/T4108kd_QVmhZY12GjDbdQOR0WYt7v789JV1QOAL9AiqdinLVshe344PK2JYu8NCi_QCNH-f1eueNmmpdaQRJfZqKymO1jigA-jpsGMJiJwGwJHspXMbBm7Jhd_lvxPymhROuaxNoNbtdw)<br>ayc<br>![](https://cdn.discordapp.com/widget-avatars/cXKYM38_ou9L1ZMi_3VlC-V66qwrUEyu2w528HNTijo/aehmdQlTvKBIWQxJNMFMMEKQTv5pkqcW49yojGMelvkNBAU1IljoORCavnEkjEuXNcknTDEUbCrpMwSnQsMud0G0VJxyZvIXiB1mh7A7TIEgFpJjSOoFKRFphTcgcB8mgkZXv0cBQ77MIQ)<br>Bennzxss<br>![](https://cdn.discordapp.com/widget-avatars/9lO8LShmn_8XsVKKW1q63e9i-sa5Coe24IR9dyEbaR4/r36PifEeat5To2H7tWYvILwz4R3dw6evK3SoX-QsiIqGSGVA1aw5fzzEa4UBYOUeT7AY8exKEzryH3ooyjeULPWJe4ST92_EXYj7iZKJvM2sksFk36qDYZgKG_6LEb140L36WErcoLqhhQ)<br>birb<br>![](https://cdn.discordapp.com/widget-avatars/9dKvGR957UJX-GI5CEuBGGrT8dPwbbch3L9fV_5z22k/hjMXOWX78qtG3O_ySAcybefiKbrkBdK-jmJ_vL0pubY-gJL8eWSw6a-8SWPJztRiWPdnTeQFWIdIRQ-h5scbGZ2nwg6t9KMZcqb_eis_tIDYVRIiBBDUpxuJ0BE-MqIJ8ok-M_Dqxt-mJw)<br>chunchun<br>![](https://cdn.discordapp.com/widget-avatars/CLi9AX50-ZBQOapgQowY5Ye-rDt0Br_7wbCOY-vK9z4/mkeqBV3WXtUhPW6GBkJPK5OAnp5xc2ziWSLZz3S3ELl6rHvC_RzX193KnU_2DRAqdnosjOXSZiME4cx2NCHOHP8Psoth7oXg83dEjIPurM1NCaPQcqY7qMG3M6FGWX-E1v77qqy-o4zYDQ)<br>d...<br>![](https://cdn.discordapp.com/widget-avatars/CzKxjmyALGVwCjYwp_LRVCpX5_bCzFeEbqCtKiK8vGg/eS2kEHLtiuBLaskZ29X3u3xWKHJcdqW45lLSqRzlk5gwwgnP9fwWspfp2QWQ7PBh23CXhuZktSCePcjvbeoSYC7fBiTFh-mQwcwVFJmUca7XBgZdsYdmpq3yYyoR5IBLcE8SEgLVfTbrUrAG)<br>Data<br>![](https://cdn.discordapp.com/widget-avatars/KEae6rPMpD7fteGkGWSxdGD-88LeMf6w0D61ERsIocc/Q3BeIEhFoOPdYH3760gy9ab8vz_y1_W7MbpHkyImF-22-RImfWJ7nOjvNv39j1ELVwjjNHRDMJ-ncc9dknDuwFX7drIUCAhPI01IukuGGqcDQQ8sLF7NBQNRDuyb5tyXMa6bbz4Uf7xR2A)<br>dcc<br>![](https://cdn.discordapp.com/widget-avatars/GPZHi5LWgQhKFURwH0DdDs91ooBz-PXpg1m2z82JodU/stIWyuFIu58DMzw8iae17O9oh7auXPA2pgejAyLrVWbxF9-75QxatUBtA8TqvGNEd52vSVYe6jTKiux5iT0KPihMww-XMHAn0oRHl8rbxR1zZamWARBmswd82nzL22bRjy08d6cFmi0ACg)<br>Dehaka<br>![](https://cdn.discordapp.com/widget-avatars/3BclRiazjzLoCK8JFmWx-YUKO4anD27_fRQoSuzV54M/jg2DfWapSQTGNg1IBT3pIHZzJ72yTMZG9xxBpvhRdZuReiDeyclwkWh4sd2S2BLVScZPeDCTGm_29wA8cheTELEDjuGn96otbjj6aZ6gkVtX1rhAvrtEoGS6a3acBlsvbhZTcBuvv_6voA)<br>Deja vu?<br>![](https://cdn.discordapp.com/widget-avatars/PWi48NfQknDVpZOuBU8tgCyAXvWNtxwhbsfR3kgclQI/1Yc9lrWHsRhAwstRWYnrP7prKRp442HYHHzoucICOER-mnsAKdr7EhUIWZv6wSec7i5Hw8U3tJlP4ra-pqLdmW7G4YEBHNgPuZi1d21Gc1WnCmVKVQ6S2IMl0jzRsVZImeLrWV88-4y4mA)<br>DEKRed Dead Redemption 2<br>![](https://cdn.discordapp.com/widget-avatars/hRvR2s74lghYaZ2Nkfa5S3zAW1mQlQMrAps22LRRDnc/5MtJrwlUHH5vIdB1xG-qsm0vcKoBm0xgSBlz1BQqb6Oadb5u7kBvQY-ABoZxVWzvRCrte5C4W0bgMrEZkZUCVWLdSpqY3kQEuwzNAs-xBc4vSc3CrlywxQYu2HZGYd31OP75yrja0IRc-Q)<br>DuckzWiz<br>![](https://cdn.discordapp.com/widget-avatars/rpPIfBXbmRfGtOSVTZl0goCoebvXCk49WpMTJp9693w/WzsD0LMZHxMjp40p6R-_JGSOB6SzuMSBSbnl2KmxMqBTwgHvSoZS7nAxLQDsOEReu7izlSa0NKMbVig_QcOjjlSZ5Anllu025SfQ7opFPCZP7uOCommq8qYBvx8xUhSWUNJV9AF4gW_5gg)<br>Echoriam<br>![](https://cdn.discordapp.com/widget-avatars/H_Y0tM0jutWT77JArsSv40ViPMdQ95L-QEYtaS4XIqE/Sk9oFIqe29xXChwgdQrk6p5YVW5rz6QNTiPjJjwjEntE-3jSkCeOTErp-e850v94AMSZS4Gpq2D-GsOXI3fPg1FwoLYeYFJdgYx_Hi2Ta9qW9vPUkHGooecfNKTFcNH3-yQtG4SX7oqs1A)<br>EjjARoblox<br>![](https://cdn.discordapp.com/widget-avatars/hXgHjEX3VtpiqZxF8__JicWZazuy3WuJMAL8PbL-Vpg/-f02KTovi3UYSl79EZBN3MofC7IN9odKRBwUlAZ2rthePU_KvKdwBXJBANjgPBeIM_YY4iIXTH30la6DgjeWWtD14r48KMbgM8YCSyjhmJr-G4jQGs70jHbf3SoqcnCFXOoFPhAfa2HS-w)<br>elsaga<br>![](https://cdn.discordapp.com/widget-avatars/fIH25GrhYMRKdPfSXKVDg8odm6aAncagd8v-jOqo-l0/hoYwUjXNUwBZpElpGupJHm1UzApZZWA6PKWr3Q6y5B_adL7qh_U6JhrkHHzOGXMOpxXd3DObJf44mc03pfXz5phZiZV6_LHG54wngg-zOuErP0BQBPZLzZo9DYuoxwVQDDX2PvOWQiuTSQ)<br>Enderdrag6ma<br>![](https://cdn.discordapp.com/widget-avatars/QPXmvfqtNZxVJ-nndkxafDNwzyw8OwwjYZbVq__7u7g/otQ01iT4xjOycWO1GlHXdoOQgbDB0fXfgAEIKZxwuZM-XF7_StE5yVsQlWFvnFyI2_Oc3H89KlmtPbUYXT42kU1WQ43ZqtdzouwDs8Nqbz5LEg6iyWLEt2o-fZDqGpLpOifjCE2f0jttFg)<br>Eric<br>![](https://cdn.discordapp.com/widget-avatars/LjuK5xPMKXDQKQXFnWk1yoOxlwzERMXYNUYswOJBWEk/xqocAp3zjsADV3j_noQRCpWZvYFAguCzN2oVHWcnAnvlJqzrTIHV4KwKeLym9gh_G3zKKH9ybDpLXSh1n2-jA7e7muddwh1jIgt_DXMTrp0Q_a7LIq0sbrXv9sFZvf-SsDl60YQy5mtHD2hu)<br>Funny Valentine<br>![](https://cdn.discordapp.com/widget-avatars/KAO84fH9p2ltCGTvkT1QZxlJl4zxH3Neibrow7rq9Hw/ShdhANlFQEfXOj0rmadUs5iVLJXOxbBmWghZCILna8JA7OlerukGbe6gk669fWUuwvN5hr7K5NgP22o33n7_F-bBWZN1yg_GUCXsl9ug_qlOD7SyTCDinkkzwEiT1OpZ7r7rgZ7IQIFGdA)<br>FuryFlamez<br>![](https://cdn.discordapp.com/widget-avatars/7p9dqSUNCFhX4QRR_SpMdTP_Bq4zdeknligmai7jMnw/lijf5eqGrmxLO9LVtfN6Ncq_TE6HkCbpLAaIbWqCWDRvP6eEmEbJTh7PxnNqLOAep5rfjlVY1jqljYrrmoc30lZ3t1aSwSJy3hlSvEi-IN15g2udR-KCZiSsupWPj_x7Cm9jz6pFqzV4uQ)<br>GabyHollow Knight<br>![](https://cdn.discordapp.com/widget-avatars/UQSfNHsCqyhLsRS962djFLzXyPxVWbe_aIOVHB6-vMY/yJCt5g0uhFipUwFwuhgEpiUgAbIsWD3gkAZpOGwERcDgXMCeCSpcO0U3HnsaUYRX9ZCt6dkW1z2mr6V8y-R4iYXmW0ULU_SFqg8PSuQYSO4mPME1DACzRS0rwZukTS3u3RuT8aX5tTMihw)<br>ghostz<br>![](https://cdn.discordapp.com/widget-avatars/V2ML86V6ozFp2Hl21KZpjb2H8GxQ7CttkwAR3RoJe9w/nFwgiKKyWl2Mllvu4Seoz6S0bVI1O1FjCDjJd8Wn-kdqUuw_iAKAfr9vBfcx3axbVxaqUvwaaUFjuS6ICr4X3VCy2Sj__0pyQvcHUHkPytqHABGi1RcuGI5Klve9djPm2bTHs3hHLI_dbWM)<br>Gramholy<br>![](https://cdn.discordapp.com/widget-avatars/6NTjLVbzbbNAeLMovlPQST3R41DCZEypsiPssFbqIIQ/GMUY0bgbYW2qAoJ-kiYo_L8KPNeqcsV43dckAm0iEy2Q326-K4kzz62nN2kj5UtKfhuLNKcAVcm_1I7TpSB-3k0W3HgKWHAl9Hs3JOKMFVyd8MFuCnOT1Nthoxn2OcGF2VGOPkzPcmvh8g)<br>Houen<br>![](https://cdn.discordapp.com/widget-avatars/5dabr2tlnISb6NXBfhvHhyW0LwBSXN9k03t8talHJo0/t13Msk5i_EomDL83mE5BDLmnOyD-3pZVaD318oyhPjsaJSoR-mZ057aDm44QgE3DYlG8aX8yTn3-kdJQkXK0qWRAcSGAAqgpg29c7wYs1ZoiHO0CYEfiAjm__-UVuw7Cf9A6mUn4coHR3A)<br>Icon of Sin<br>![](https://cdn.discordapp.com/widget-avatars/lDm5cckMA4HdlHKuTcm-rVc6qepUJSucBAO93oQ3New/9UlkrqXD9yfCmSPm3UpebwoFd8YLXD8Ct9wErLvjOObg2_PyH9YMHlq2G65pbn5tjFJ0QjI_E_1j9i-AYDlnKdVgcM2HpG8CmnswQnbCQeL00f3OANbRbRPqOdy7z7OuturXGgRz3tNewQ)<br>Idc<br>![](https://cdn.discordapp.com/widget-avatars/We4a14uzKPvPPWkCxzXFTad5P12HP66i6lOzcImiXbQ/hLkzk6Xd8hZn8CqPyVqwK7owdLY1n1Vi1xjGbh9yLY0h1V6z-2rLNdlNulQFWH3hfdTnZGLr8dd9BbInU4k)<br>ingle<br>![](https://cdn.discordapp.com/widget-avatars/T33FziW0UHBlAA4mItTOAkQYuYqUY820KLGLo-Wxjv8/6fjnMSOkLO7gYH_qa7ngblkZTpnJWiLiV5v6qLM040JmSGEIvRyd-GaBJjDxuXxMLjuX1y4YsIfJII4s8LbIkQE2W11C4QdolzRAEQkoIOlufS7T33sG9PbJRd5lJSMrZzKh4gedAWWBdA)<br>jihwan<br>![](https://cdn.discordapp.com/widget-avatars/MvRXcVBHXD2dqZzeF7FILuXRdFCZemQJKnci5puDEok/_di7EXIhejh5yYuQiVnEVr4q_bf5FbyvAIj_y1GJU10RyYE6eFi0k0sardzuNfTAC5Vyb2zkT-td4HlaF8YcKKNMpBn61lUq5HWrjlGXV7o-ATEeGhhFIGo8Y1B-zUq-6zvJwsGx4mFYyQ)<br>Jujuz<br>![](https://cdn.discordapp.com/widget-avatars/kYOBZyikYClUNNUriG9ku3NUHjQXbf70CKoZjc2TUvI/lrBJ4dJOeRjfgFndkunqLf_9Mi6AFW8QiI3dgZDmg6sFULjDPNeCVR-7Ozlw6QL0VAFP1ur4BZm6psSg4luhVhq0B4QoDjzQHiCAerk7hg9y1lv2wHOOLsyn--7ZWKX--4i5MC5xKb-ZeQ)<br>JusLethal Company<br>![](https://cdn.discordapp.com/widget-avatars/YkaZojoNJNKPJ7PCX2t1mMerJ51ukxK4rgjDVAx4z4Q/KYq5RNVqQYnosrtkXVjoDZ1CCz3CVjox2uQaH0EgVWY0N8kXaNK30-nSq1BWgyJCevmS_LjyXEZtbEn1DjR49VRVZCZQqTUfRKFFI0cJRIHCuAqxM2T-Cn1s-dxoJ0UIXX3OCNzPNsghYw)<br>Kfc<br>![](https://cdn.discordapp.com/widget-avatars/oqUUrhej_2DmBBHC2EBnjzGnBiASvgwZKhPeMUa35ms/ylYdaCH9gGWcbWqORt1_JXK-mTVeZYghslgPmDbDbh_3ZZcvt9viGaxxJdxczOlG_kAQB4VxJQE88r_ErM4XHL6qHQwousLYfD_O2ozSsBqR9ZDcEp_u27UY9Qqr7g0SFUYsxF4OWlBYUA)<br>Kirina<br>![](https://cdn.discordapp.com/widget-avatars/3SvG2sX80xmdyTNloidzkNflgyX4y2lf6vxbDXkO4wg/XzzBTq2jM3STvT4XAGb8Au5Yk1uWzbcBh2GxBU8GBfcllo1zH1ZSsiIObWEqkCY7gl84JHiCGQeZyeG6SCo8aRZlkH995D3W5TqKmF6dYYhVIOHvTTtdlBdCgEz9_OYccbGz9WeZ7mkkKA)<br>kirito<br>![](https://cdn.discordapp.com/widget-avatars/hnEa3StRR-u959gVtnaAbwkBT9mCDExRxYK38hmqb8g/00HD3Pw5hFK35ZpOpRk5IbTSvggdJ4BpodyGiT1Fe0QjKNOe3pFOFrO7CnRXoq8fcUZLt0dq-lywXFPp09jXr3TQ9rIGZp29NoQ65zS7dkhDXgbgO0foYFO2DjzL3nGJyC3texseZdVJcw)<br>Ksel<br>![](https://cdn.discordapp.com/widget-avatars/rsq41Q5S3MKLFLFBuIouT0M8ReLx323RDEwiYsFFJgg/A1EmNh_l00Nux9bfCiBol3hd8fOJumskazMmA2_rVJbuw3QMbyGIzps_qM1eXAl7DrKR7f_-epRg3AxI4R-xK4hy9WVUNZc4jr38JIRTniwfQGe8VACGPxxNJkgZbU4NGCadnnSv5-k7)<br>Kyle<br>![](https://cdn.discordapp.com/widget-avatars/jDgQ9aEY4Mtj2VSyKY5gN1JZ-JUlM5zb0Y1rtH6T_vc/s5464Rpnevg_vfwCdTa9H-UY6Vkm8OVC4s4tDR2zLj4HuRF7Bw4kjz7LTY6Cu_jQ6L_SWfzEZECwK-hPwuWvKTpgoDOsqf2ej18O0opqGghxy_59P0hlGwwgJkJhm07gzqYPsJkhiT4u5A)<br>kzki<br>![](https://cdn.discordapp.com/widget-avatars/Q0vSX26SprYLpohZlfammaUaH0rFi5KwYINUYuqi6MQ/8WXPlq-vsW7im0qCrqPDxICy_4RC2C7fyJpRqdmWPbASFnSHESjk5je5iMu2m7Fnk33GtHVs_NKWxfEG8c1S2m40r8HrjavaGP_h8HVadJS_CiXm-xrVhvFuxcVUSp74k2fOdeex2HbpXg)<br>Lasicagaming<br>![](https://cdn.discordapp.com/widget-avatars/5x7q7NGX7aMXpW7vCZpLxKYO1boCXgoFl4ZVssNIQt4/TygLLDV9YCXEj4-znhWRlYC0eXs3dz9nPHPMNfrGyqdKHeWyi7oIO6wCBL__wWnHBmuv5f_4pXmlUl6-RtgUSe9Nea1dCHb0BnyYyKnrx1rI2d56M1IzOwPe2HFJ10o9Ji2zgaGA5cyYDA)<br>Luminar Leaf<br>![](https://cdn.discordapp.com/widget-avatars/JTig73dp2L29_Q7J7OHDFFUOWLZ4Za7g-KWA7qw_O5g/zy4nw3brvrSTWFQ3LC4H0PKrWGn4YPitfvyUFMtizf9diqC5wJZkVkp-CaDjFIHY62mbULTQy8l6z-9qzEpf7EHJabFUAzgs932pfPlHJKc9L9hL05p_ppwNSRrv4CoJcFaOkxBkiAmNrg)<br>Lyrik<br>![](https://cdn.discordapp.com/widget-avatars/fWkmHQQGb0fb-kiRA_9DvnWXFbRbfEL2mGNpvYaF2wY/r0NwyodsT6IsDC7PCA-PCZZXBYmrpBoWmSAfOWY9neIZ-nCFF7y1Xajv7Y8bkEspJE2nUAPd17h5v4ZAlQKkWsqcRg18KQj7x9FxGuWzyMgG9RmmQZmDNPQuw7oI3vVMNCSldWa8FuX8eQ)<br>LøneWølf<br>![](https://cdn.discordapp.com/widget-avatars/K_NFMhgvJ3RjZ5QrbfyH-pH0vLt-eO7H5vyaY38djOU/oh06eSNMNU5zg2FuSUPRWmXbzi-bqiTdNSiYH0xCuZGGh6DZLat8O4Hj3jBfWfM8DVQ-nF0T3Z7QeokSx4HqwpreNPaAEX4lqVhl-XUf1SDNMSNTQLYbZDgajp1PwhVhxidJxVvTq0TeAQ)<br>MaxipadRainbow Six Siege<br>![](https://cdn.discordapp.com/widget-avatars/LBE3li45P2O9oStz8u2Hk_rUVYGQa8GgPgT8jsUmtlo/rlHmx_voqyxn0AKLoAewP0b2JrJNr_hJQvCRl9TQ0ZAuEtyCb_h__EJeIwQJ4jogbe-6lKVrrHnuvuJcty2LFVpnpb_le_SblgbObV30W3CXhHodbz6WrwdIoow4NZF8mLDiO6d0AurI1Q)<br>Merv<br>![](https://cdn.discordapp.com/widget-avatars/gALeyGvzwztL0QnLcto9nXA6-LTFF4YXH5bG5CbjkYs/CjtAiq2x0hsbiigEMj4lXCmjliP7uyQvEMIEo3UZAgLb4JpTKAZtUfACnlLasfluUnAlqSFm1k40G5NiCIV4U7_mrjngZS9Gt-B2gs6BUnsP_BNho0D6cMEbRyDu29N1vA_TyFtcDj6XlHw)<br>Mini<br>![](https://cdn.discordapp.com/widget-avatars/N1YUXjNNCGFACtSNJi_7dmBsSGEq3xN7uIGmwD7VwRM/2_wwp138OP_Dhf5pVNMRNrej5fvKyomeInj-BleHfAZq0lxg-hD-fVybmZdrlsSRnPKow0MORdkNHQXrFESpcf-GtBdC4hT0TmMWVo-sWBWUbXFXcPo_wASqWa0wkWjyOs8tnfTpncCdag)<br>Mister04<br>![](https://cdn.discordapp.com/widget-avatars/CqV5agFrAi3L4BIDMCn8I9dr_fM5MpHSJ_Z0HW0W3gI/C0RNH0yjd0FrPHyfXsvdhHnh6g_cbxuA2_l18H8xVwK18IwFmp6GQQCd_zBfRi6qUBzkrTSJx_yH9nuYqrylPcyT_QNTrrKzr-27pM2VAS1ShIGuel189z-fIm0wBCzvq9xQXXCysq1nYA)<br>Narrative<br>![](https://cdn.discordapp.com/widget-avatars/eXU-weTF1JprIWxB2RASqd2NUW_oPsU0cIpkyHFNXoY/YUPdr39CqbHYWWWGnEISJbG6SN4jwYxgKXZ8Vjv69XN8GqFfgNvr6ez9s4WD18gsNC0P6GxDT6xVFBXjTxKCSoIV77JWy64UneeSUfNFzlG6HwxezooAqB6e5yl_ldzGNYX0SFuMwwsrVA)<br>Nex<br>![](https://cdn.discordapp.com/widget-avatars/7_BAguiZs4fk0VfsJmQEbxb8k4RX9prgFOmGOpNWIQA/LWgYb6C9-W6E5wn1dRmdjEo4sa0olyiWn9JnA4KL-fe55ittGrYwMWZKyOZc-AV0KFmxNZoG2yJpw6qDnNnnOUHuGXXX92m26qPGMlOYtLpjLQOfRsaqWJSYbTlHV5ra2d4OX6byEP6I1g)<br>Nitzayra<br>![](https://cdn.discordapp.com/widget-avatars/3SDf7olIo_x38c4S3Ucgsr6VaYfpfe4hBpi6aQEzwdQ/R6zrnGkkwV-NiDL3EutI3xo0Ve_5FMJmS0v4N8CJuUnSIgkKehTIQ7PsP1voyGwDu--vbX_bK3-bxlRAsvGtTDGv-X7MQ9wDUP8G82YASFNmpxvYx74ouMHdNNlGOGgC67KrgLl5zRxPGg)<br>NoGuyBuy<br>![](https://cdn.discordapp.com/widget-avatars/hvlaoeYa1LgQ1vtZVuwn1trREWbHLExoBzDlBsosDYg/GKbLFwtj6QJSpcSP5tgZoGlY2Eq-xs07DLKqoZxvhGTb6m7SUhmAJs1-c_zTBxg-gQvVNQlbgLoPYBlX8bV_JLDXcuAYqRrx-OaRzxWrjh__2reVZxpI72DoGtd50MjgAmb-N9F6ND4KvQ)<br>Omknee<br>![](https://cdn.discordapp.com/widget-avatars/kzAtwZAyf7nCA1VyfGtNB8RWEhUo1EEZUFOHXSS9Y_4/VAebYxtKfDHlzTkCrDGpLmoRdyR44XwnCr0drqiFhz24bzJltn68MzCYrFxvIV1iXevJoA55AGB8u8Wv9m_wtweKkRY4QaycwQA-dWJvQioPIcrfQrAc6Aub9EG4uYouj4T0HKgmN25w8Q)<br>OwwiFortnite<br>![](https://cdn.discordapp.com/widget-avatars/4m32Ht9toqibmCk_KHVGsxnq3yQKAH4xMQDlBPILP2c/0QazwitbiS02QxdFP0ncty46fSsL57p3L25r3aueW9-FoJ-cnL9ful3fE-bDTnxFuL11jtMdfS_aLSYf8psA0JY8luhT3j2txc3gPge09ZsqJTTV5ANF_6XzG1cpvJHUmUog59oLuMCH7Q)<br>p...<br>![](https://cdn.discordapp.com/widget-avatars/ihVygJEEruf_u7lkY87I29wG9QuAjFo54cwe5SfoC-I/gMT9ciqXOLn1tnlJlLo6s3M3_47MzGW86Mus1qV0fBGsXDbZFZsvNvAnAuQtu5m7sWUpDtSxcPd5WT2UxRZbETmtSPYuTH5IsOPwhGFdTIVR4JJYdrplZWLXc-HQRhBaI9eMhXWyEVEX3w)<br>p...<br>![](https://cdn.discordapp.com/widget-avatars/7H77LmKSSqW_uukxxkRdbGZt-pPh-996N9yhPkRGXrc/uzzxBWn-bDWkdyyXbej_E6TiYkpUtA9Sx1iGHK7taG2Cui2TQSw-W5tDc_3b9hPjRwq4kY7383XAnNzFAD0g3zmvv08rPZ6dd6QKtHfi4RilWOW--odEuOwFv4NhcFwEYZb49ixo3AM2Qw)<br>Peak<br>![](https://cdn.discordapp.com/widget-avatars/vwVmTHGgrmdPf2lxAgOSYi5PxwkzFqUVSX7GHXnHatM/1iv6R7HL_KBtdTqmY18p1LIpnTwzF4UIjUdov-W8Ykfb20L76kMIK-6LzdTXhMULCeIrGFnYDA84VgHGFcO1B8TPFyKWxqsaO5u2309MIbBPGtvyUFARXPjlStK6qs-RF24KErnStkRC1A)<br>PlaysonBloons TD 6<br>![](https://cdn.discordapp.com/widget-avatars/CuReYlkLLuHWT_QLIV0UcaE7DobmsYABcM1ADJSV0BY/Me2vKJAPS0JYoQbiUVhk4dYOD4s4F2xKn1ruSILm1bdtj0g36vQiDZ4IDX6TcIpqXaocnmGJOxe1wiNLp9aG102-kQ-tKITz1NelBtDjcnPY-MO-3qa7A2znsbj6eMwkdODWBkqVUDGuGFWO)<br>Plutonian<br>![](https://cdn.discordapp.com/widget-avatars/IsQJ1YVxZl9hxY9zLS-Xn_GmSzLdKj0dYKnCItbzwWU/cRoobPzw4xPRySgULTgx56_hPluHb3xMdOVecLexCv0ULVKXABSGJj6mTrqp16K01BuRNyu3gWWL8fxmq09grXL7RbIboelkgDntebvnTSDSrbtq4u_CxnabvZWcfX-dW9tx5u3nDofdgQ)<br>POV: You just got unmutedVALORANT<br>![](https://cdn.discordapp.com/widget-avatars/0-Mj8-apB_XswLpOXwHg7pX9VnPQJGe7FSJo5KjrG0g/fLv9ojR4wFRNaTaKdKbwZ8h1niK-BTCFCHNrDfqGX1oQXH5j4M6cxZ2OTIGIrNZJo2cb0w_16N3tfsXBpRCFfCWTan-nSQuoIEcrcf7tTUz0w2zJPgLXdaWu1YKU0kU_da1QPLH_SwjxGA)<br>r...League of Legends<br>![](https://cdn.discordapp.com/widget-avatars/12YWA5nUN4TopOuhDGcnyMwX75S6sJW4irBnpha7z88/PbCWtbzgF5PjM2KW_nudw5MJOy-ffIMKsv6TLidwVipcJkZNpntYeKG1J14Y8T7QYlN5fXyZpKYhUFte_44Xy-YKnuJfK6f1qZzgvRLM65Uc6A53UqPraiqA1n-8fSOFGEeelKYNnrVGWA)<br>r...<br>![](https://cdn.discordapp.com/widget-avatars/fQDuHlEEv1YWcQN8QNondlQWhorQ881V-_oa4AjdPj0/QVuTf2tbiqWGtuccS28WZ5dzHPLfhdbdLmWGIK3AOBqUBejDVx4WuQNjc6cYc0Ld61Wmxttze8vXkWfgyr1HETymbs9Iv2O8kwNChQqFLnwZJ2K058RUIixNiMGj32oVcIHEXUNWa00BDg)<br>Rafinhas<br>![](https://cdn.discordapp.com/widget-avatars/x9E5iqSPteNpz2itmNR9PkgseNXkz38DE-TfPWA-2Qs/hCllvQh6efDMhWF7esAKoXLKHctIp_0aIXwW61PE3WH4P_Tyhf8VdtPQMFP5T45mvRGwaHcgn50zR8d4o0rObeDLrrJUwzS01f9B6IKtcndroeR0TMpeXQbKEHE6RqxcVgAyHYp0QFtBJw)<br>RaijinSage<br>![](https://cdn.discordapp.com/widget-avatars/6-3oAj_6rfgq_DRbuNYbK2-AiYHhWDuGziCJ0p3zmcg/aLopaxYs2EcQ8OzCviAHhfKFxM51zL2Dn7GssAe0nEvqM7m7Bt1cJXo3Wlt6C_Kiifg1vDNFQw0WUii6QdtzOEXCGuFWQujnxxTGkCTYHkQ1Q-5dwMUDSEkbnso9DT0BT_5GJg6wiDfaeg)<br>Raptor go YEET<br>![](https://cdn.discordapp.com/widget-avatars/toZZ1ePTa7CvgttAOT_SWNe0ymK1BatdIRLvRvbcc2o/X1RODuMBnKPC8ucbYZjQkD_hqpoltD6v0aNf1N6oVgISuD2gx5cd5aL1Bikh3vfv2SzfH512eZKNYgN24gjc5xtj4tE99CmSOz7ZbT4APYZJppGgg1_iyxSIqaH8vLXnQ7x74CaiJOME34Pt)<br>Regulus<br>![](https://cdn.discordapp.com/widget-avatars/YaoZjNNbU7CrZ8QNJXEWRgbh7CX1ZN4cinQcYTDKRR8/WI6Vh1mg02-bHOMenGnXg2BCVkUDuFcWWWIdjCzZcqycJQbprUynbSf3jF870_qVE-QUl6g69cKZm-JNx3zyfGHN1BlAMGh6gbtygWSsbo2aLCcAc3IqnuvR83c14i6E7K3Cz7SFK712FQ)<br>Request\\_Meow!<br>![](https://cdn.discordapp.com/widget-avatars/_m1uKmYVxspvnnkUrMYl6FROL8sVrE_W_c42aPgVprc/XA-4PeGCGX6Miza7yZakcWTiN3clTW9LOEU_xhp8T5ZqDe1rf_rfECjhkUCMWb_Hvbdwm7KDnr4HlgnQgVGbxgZhTPGe5f-wFvpJJ4VcVCkSrtW0pbDYh13I7QvrPIS8ctKIqT10hjWqDg)<br>Rhaxx<br>![](https://cdn.discordapp.com/widget-avatars/El0IxkhtMNurmEpe4SwW1eVscPfgCef3CG4KD9DeUok/FsovmTdY8NlY7ei2dn_Wc57D8L1uqly-RrcKehudZp2rX4JQi9myGl5HPgjTYGlJLfzGHXC5VZRHVhAaDmF1u28yg3XBMDGrYuUe0GSq3Skxmwhye7SZyfcD9ZQpZiZ-Xe8OGEHBVdvUdw)<br>Rory<br>![](https://cdn.discordapp.com/widget-avatars/X9UKjegHYBNTdtWmUsHsuh0Aa8i8OakU2Nc3MEzUtAQ/VsbyamR_OrJNNphdBeuASFooSLpqS8FmVZ82Hcoy5KWgnkWeGZsdvmcoUvmUMsMsbZgYhW4bItpht1GePwBKqrPvqpkwXDXI6Rv3DvMR5hUxWWlYtezKTJJk8GeZBXTvlp0d9W_32KNQFQ)<br>s...<br>![](https://cdn.discordapp.com/widget-avatars/5oKdVv7iYQFPlMAHMrqRBKqKEID_vaB3qsf_9W2G26I/oQdrlLv_dYWxdAjAN7qrpXgj3Zww-A0k4V-XFs6ebWfbHsPes6GT2icQdhy7pXOEwt9uPH62XIWgmVjPAv0lX91kL_l-Hp_u5Ph7d3aUejnBsabkkl0lbkKN66uq1GhBl0Hj_COPyfvSow)<br>s...<br>![](https://cdn.discordapp.com/widget-avatars/N4hK-3qKsa-6Kq7ZYuOp2b9G3iBQu-Xgc8D7wguRF6M/xgrqYVzpyrhTBZNOA4OKX3Iee-WvxKbQaS36T31CaJ43WUh_mvjk7ulij9AR6nb5t7ZlS_av0W2FXoo9z1sEbp08xqUrPhfM-5IGFvBveHVk0N9_K2TdGrMn79WiTtxJUwAiIZyMvF23-A)<br>SalBaldur's Gate 3<br>![](https://cdn.discordapp.com/widget-avatars/dWmfaFgsoqeVj8TRdnSuwFDJQ6pNKR6hfgA5oylCAe4/hC9MGavlSLcp_u2MmLHkF5EkHTawpczx5MuFt9UmLmLIaP5ZHsTv783PmPOgILRjTJB9_pKX8egb6VulsKHcLYGeFH7QpDgEI8n9nFcS1WHx3dFqxv8zVRAPvte8_A4dMlaD97enI9oktg)<br>Secozzi<br>![](https://cdn.discordapp.com/widget-avatars/U1H-0RA08nC4iCcwyJT9qTBJWqKoXAN6rluw_UCU0F8/18h7wCUHWh3I2ad1hoHUhADPf3PY7OPoH56Lze5gsJ_T1hufcLY-jbY0tBghhperj_GamYxZlWI1-eZ0rpgcScLro1gk0cRT-qgPbigRmJ_nBpWx2qxgupUNy4-4rHzO_JGvZ0_Hm0Vhtco7)<br>Shiro.<br>![](https://cdn.discordapp.com/widget-avatars/DfsUTrXo1neTZLXg-seF66i7I8ZflDGLr5tdkvCm3Do/S90Np5TcgLDp75VQtomXBZDtk80JaBuPKxq36krmbuvNw2oqRrZbXd5CmWaH1yhqrNK5ca6Gcp7F_Z7c8NLprgvvuIAuvrXZePcDD-BPbiCcGgTfqSPI9anDmpXXO4dIWnTp0_KN7jb9KQ)<br>SnekySnake<br>![](https://cdn.discordapp.com/widget-avatars/QL6Y1DxzRDvzjwINowgdNU1rm6dukm2JiMPPEfrdWtE/69g6tiJtOV_hwVFc5ztzH6_KhNp4ADacDEOJO9u0fDVloUUfue12oD9yOaXBdiiZDsUK7zHxqZg2U-V7lQBINro28YfUn9pR_FiV4kSjPNOx5bHitg0iq_qEsGEG7-E_wZutYuAbTVpi4Gw)<br>Soregoosu!(lazer)<br>![](https://cdn.discordapp.com/widget-avatars/y6Ka32jk6CqozOJLpOiGUMkv_-yDhk1D_NR2jEVn5PI/L6UpgJhqWigGUvPWnm6tt9WfqGr4xMcsUB7XRhD0laksL1yRoCgQRISrzKQtw7fjtMRtZhKDgGAdOPHgw1yRxTVHUP4Wn_CKJ8oJQCZghhnfn1dImxUUMDWSa88yRhVq3ObCutmBg1qU4EsY)<br>Super<br>![](https://cdn.discordapp.com/widget-avatars/-lM1pfrwPptv4uhWXxaaaLGdevf8nVSM8_TahLdUFM0/fcrXzLkf7FJ22iev6bXSp_o8TRUbZZIHznPTuAO61czpEiP-OnWtrlnoQN0PLlZjo9bIFDHWgwrQc6LAtxO0yCpzZuLKyexJszaFHM0OOmpbZalKz5IwvnFzzGi80jszcrvWl-0s9GQBEg)<br>Troefuy<br>![](https://cdn.discordapp.com/widget-avatars/_YWb0V0wLUi04pcDODTO0FNO8qn7eGrM3gRIukaUGzo/rUYuuTkWXYGlYc6DsSqDM-rSFzr4DddYFkzTVo-77FZRmyzgs9oNXZSeSsg9upWHIhAnt2Rq7ixFWidLV3HOXC772aWz9_5Tbe-jGFGJJW26GYgnRx4_txgDQtuLXU5JjBO26V5xJlG5Lg)<br>Turbro<br>![](https://cdn.discordapp.com/widget-avatars/6i_V1sQnFRzKFDhiru4WB8jdsT7A20JIO9p8FiULBw8/vfCf3gyn1LJDzmcdclTp9hTLsYq0rmYwg5_qF9Yb3pUgPlw7esnSl6X-rukY1RrrtAVeL2E8bkO7DuZRo0vKtvjmwvMhYSZYxBYfjnMiAI2KBW_gD2kmvPV-_iJRi2T9lsXOmBU469JK-A)<br>velzevoul<br>![](https://cdn.discordapp.com/widget-avatars/to0K1I2o_0oZYZpanXDXCteeib0ZGAyVHPmIJavHF4Y/8to3vt0NFhbqtv3epgSDI016H7gHWa2UeL2SivnB_H84yXF_RZVAdEjDR_sJztRNlTvjGviKlfKEAHdvcf7E30BFtIsjqwzHU0sw1ZqGpwjxKexY-0uOdXgg0r6gtJ7v0rZhIMSuZqfS9pA)<br>vurpin<br>![](https://cdn.discordapp.com/widget-avatars/igdYoMnwyL4mRudDb4VpnchSTP7ZiUCKsSYfRFPxax8/rXRumjiqIA-ZFWlMXITbp0y4s52ByzqU9pMH1cuubwKLbxZWnNRVwZwuTVRDZPOAMWNwMzswqWejLsdgHyg7pEwGPAqjCwgMvfr0NnFuVOstxxi8ipHUwmYpqoT3tsNBe4aJKz7pnajLxA)<br>W1NTER<br>![](https://cdn.discordapp.com/widget-avatars/xN94PbB01nj48d_gQ6RjottXdMuc63kdSMWxkxoFgGQ/9PQklz7Xd84NtHbA7RhxfrQMl7UWhfHQicqQI2Iu01tR7czHfncepyo_jBWkam0BYqfA0GEFdYFFrgH3W0IKWsCVpmlUzmbygolK3pw5bAmjvcsmDhS-jPAC0uMadxWFIcW94LMGyoCQzA)<br>winton overwat<br>![](https://cdn.discordapp.com/widget-avatars/YD1SvM4V6z-IIFoOHvoeUaPy2_zPGxfV3xVG4j0Yzwc/Rtta_B7l69hR5aISQtbaVnuvF87LnBYM2ti775xNa4HWlWw3e9Mc0LxSZXqPgaOGV2lFKQq9hQELew16S17J5vhqMgfxpxfDYRN2dQlLvZzOs8o4eh-gtxjM0UVAvUa3F87TURM-YoWy6G1O)<br>Winz<br>![](https://cdn.discordapp.com/widget-avatars/yIV0OOh4JjISz6wtKSVjOtUfSkmYeQMvsG6N8USwCiY/XayvqYlXy8PeOShgShDmhy2bctxuJOc7SIGl0dPhPu0XWTrNA0GkyRktBid5NmHeQTMcO7omfe5tG9K9IS2l2hTddDbu5ZE_H1gIrqAhMJ77PqoIppLSYfjP9Wo5sUK3ZWDqpDxI8Z05nA)<br>Wiz<br>![](https://cdn.discordapp.com/widget-avatars/UUME26c0yVrylLD8YA3KP8msqhm7U76Gyk5v2YLjXwY/Y4kbOmwshoYJtX0JqUvAVmaGLk6YG5h0xP6baCPuBTSB978_x757hX9dRpV_2-2B7kH43j1_0WKL02hbW0QBN-T389wdutrSxE5__TjUcHkZE2rzupI0jR3prYtvTtz2ThmCMHT7Gt9aog)<br>Zero<br>![](https://cdn.discordapp.com/widget-avatars/XycicASs1lQMW7THnTJ1XNg3cLVSbOs5rfmm0WzJUdg/M5HMuroL8mj9aKEz6q4o_SUBWf9ari1dg0eH4Sk_HBMcieImp2nIZKYaa6cv0QNvq9yd7NF08kWOM1hCjVx6i1zsxJiY8dC697VIoYjZgm-OOdU9BWpZCH2hSYLHsarEgo0SQUePn7mZBB6M)<br>Zescuro<br>![](https://cdn.discordapp.com/widget-avatars/IyLGSHYX9ECMj-epgp39dG5rbrpCeglsYVM8wvV8U0U/j36BcTd6rO6fA2wRA3n7IAf-WgN8GOf1Sa7TqMrSQYjCR20mU1Uf6KzRXBursdLblkkD0K8PTmW1SBcd-5GG_zGX6VQTiPNb4QUO8Hun4GXeqHboqhYcg2KlvrbdjFjtC3wYkgrDhGKmMQ)<br>zetCounter-Strike 2<br>![](https://cdn.discordapp.com/widget-avatars/mOHqXKmHQJTRUklUAoutNnCiXk1oyHdZvTBp7xPLEd4/OKRH7AIzlWha5y2HRfmeHlJME5H7_pY0mIpFMfwYxG62YKDg2eu_3JPedD_prom4LJgwxv-EuX342COyEQ3kYn4XqtqMp0KxxnjuyT6YxDrcY_NaliAT3WnNoCpQ8qQva17SCIwZl-Ls-A)<br>zzzz<br>![](https://cdn.discordapp.com/widget-avatars/LwUCkEE-A94EOziwdHHX2taQi_bn0RgGSA0FDn-vDDM/OTgHUblJZqPxmNLkZ3GtULNUg3i9rYdl_4YjaC7-NZbKbYx_lYOYveG-1h63sWCb0FWKRcUfv9PeEQav31kn8xi3g5Yy1_YESyC9Q7ToFa1rzCE5Jp2Ceeuq2Uq6w0jFT6-kKzPAvjZ2mg)<br>ৎCrimson୭<br>![](https://cdn.discordapp.com/widget-avatars/T5UgTuWwk-6g6RTiLcNkZiSeMh4NUaFASzuuIErQmmA/JzZsc0ih-apU55ynlP1xwL1kQY5vR7DnqgRqicEygXm84M1tZoaURirqr_y_yz4U3nQPPXg5lruhVB-SGs5tZGDliyrcgzkJt57GVzv0E_bpeu17tjjKyEfLPZRMLZab1PjaooVylWB36z0)<br>ᴄʀᴏɪ$ᴀɴᴛ \\| ϟ 144<br>![](https://cdn.discordapp.com/widget-avatars/wL2Cb0LJq4X_vQA61dnypuIwFJQKWwiqT_U14_nuL_w/ikalhCnqt8vGw_Kk6fyvbwcQBHdiRP-607s80SHKX8jo5fsHUdbLrcDQhkWSR9T1sk7jeIu4w8sHSUpnAGH-j-LlTOJPBK75Wm2gv7FGtr44sgaPvX1Jq-cJtvq20jmfB86aoesxzz7fiQ)<br>かりんど<br>![](https://cdn.discordapp.com/widget-avatars/5rjI6N2-69Y3QJXxaMUIAL3kRGYsPKPObi0LtoGvb0c/udem9_h4mxa-LiIA4QrPT4heSKlcqRbIsEBoeGDA0FwBe_rFj8nYYkEHZw_oKLPWAOJB4TObB8Q3Yv_inGkRBpDsq_wlTesITKf5tyQhsy-gLnKs64Z_ITAZwu7TjOf8UVfxpIGyzVbqlbE)<br>𝓔𝓿𝓪 𝓑𝓮𝓬𝓴𝓮<br>![](https://cdn.discordapp.com/widget-avatars/R9gE4B4NjN_DQHp5dmmeGpoLxps3FcymtPBvOBNNnCQ/En9WEvaCnAjqeWMU0Ee7lg0pqzTlFEQqrdIJrcR6A9HNNrePevsM3BcACM4JU3ap18ChHBfEd5hTdNQB26JSQV8ugUc-My-nCPbeLqVtp1XZ1APqMbyAG_dXSqxjMGDJgxPpNodHobta_w)<br>𝘍𝘦𝘴𝘵𝘪𝘷𝘦 𝘛𝘰𝘩𝘬𝘢<br>![](https://cdn.discordapp.com/widget-avatars/zB2V-IGQ8CD1Jmsg3pFJAFHV634Lw1vZRpfr-UY0HCQ/mFjFbL7VCGLoG7tffXipKpF0kZJB1dpxup6gfmf2CipupjWrixtK79t3eNZ2sTjappn96ll8tYCgtQQrwGjrjncoqpnDuEoOvJm79S0_J9EMNHBopW4flO8_k8paGuxZ7rRlRSGcBIPimoZW)<br>𝙊𝙆𝘼𝙍𝙐𝙉<br>![](https://cdn.discordapp.com/widget-avatars/OsY2qeBEhYID_e5AzhUF-U6jGmX69DKc0lb-Vntz3-Q/tv_RyC2Mn0bos7-DUin-hwrj-PIZ_M6dICo_cpBmPGLYhNcKi_Z3XgtuibzB4vxU5PWFvBl9TUcgU-dwPgYVy7eCKZgh7zzaoGl8RXPO5VXsXIjFSRUWPapfDMTPKfE97qZUqk8MuiO1ig)<br>💿𝓡𝓪𝓩𝔃𝓩 📀<br>Hangout with people who get it [Join Discord](https://discord.com/invite/Y98haGCn?utm_source=Discord%20Widget&utm_medium=Connect&username=null) |\n",
            "\n",
            "| **Featured Quote** |\n",
            "| --- |\n",
            "| |     |     |     |\n",
            "| --- | --- | --- |\n",
            "| “ | You Sure Had a Lot to Say for Someone Who’s About to Die | ” |\n",
            "| — [Beru](https://solo-leveling.fandom.com/wiki/Beru \"Beru\"), Chapter 120 | |\n",
            "\n",
            "| **Promotional Videos** |\n",
            "| --- |\n",
            "| [![Solo_Leveling_Season_2_-Arise_from_the_Shadow-_-_OFFICIAL_TRAILER](https://static.wikia.nocookie.net/solo-leveling/images/3/36/Solo_Leveling_Season_2_-Arise_from_the_Shadow-_-_OFFICIAL_TRAILER/revision/latest/scale-to-width-down/250?cb=20241221161152)](https://solo-leveling.fandom.com/wiki/File:Solo_Leveling_Season_2_-Arise_from_the_Shadow-_-_OFFICIAL_TRAILER)<br>Solo Leveling Season 2 -Arise from the Shadow- - OFFICIAL TRAILER<br>[![웹툰_『나_혼자만_레벨업』_트레일러_공개](https://static.wikia.nocookie.net/solo-leveling/images/1/1b/%EC%9B%B9%ED%88%B0_%E3%80%8E%EB%82%98_%ED%98%BC%EC%9E%90%EB%A7%8C_%EB%A0%88%EB%B2%A8%EC%97%85%E3%80%8F_%ED%8A%B8%EB%A0%88%EC%9D%BC%EB%9F%AC_%EA%B3%B5%EA%B0%9C/revision/latest/scale-to-width-down/250?cb=20190324044628)](https://solo-leveling.fandom.com/wiki/File:%EC%9B%B9%ED%88%B0_%E3%80%8E%EB%82%98_%ED%98%BC%EC%9E%90%EB%A7%8C_%EB%A0%88%EB%B2%A8%EC%97%85%E3%80%8F_%ED%8A%B8%EB%A0%88%EC%9D%BC%EB%9F%AC_%EA%B3%B5%EA%B0%9C)<br>웹툰 『나 혼자만 레벨업』 트레일러 공개<br>[![웹툰_『나_혼자만_레벨업』_2차_트레일러_공개](https://static.wikia.nocookie.net/solo-leveling/images/b/b1/%EC%9B%B9%ED%88%B0_%E3%80%8E%EB%82%98_%ED%98%BC%EC%9E%90%EB%A7%8C_%EB%A0%88%EB%B2%A8%EC%97%85%E3%80%8F_2%EC%B0%A8_%ED%8A%B8%EB%A0%88%EC%9D%BC%EB%9F%AC_%EA%B3%B5%EA%B0%9C/revision/latest/scale-to-width-down/250?cb=20200307030729)](https://solo-leveling.fandom.com/wiki/File:%EC%9B%B9%ED%88%B0_%E3%80%8E%EB%82%98_%ED%98%BC%EC%9E%90%EB%A7%8C_%EB%A0%88%EB%B2%A8%EC%97%85%E3%80%8F_2%EC%B0%A8_%ED%8A%B8%EB%A0%88%EC%9D%BC%EB%9F%AC_%EA%B3%B5%EA%B0%9C)<br>웹툰 『나 혼자만 레벨업』 2차 트레일러 공개<br>[![『나_혼자만_레벨업』_애니메이션_프로젝트_해금_PV_공개_-_『Solo_Leveling』_Animation_Project_Official_Teaser_(KR)](https://static.wikia.nocookie.net/solo-leveling/images/4/40/%E3%80%8E%EB%82%98_%ED%98%BC%EC%9E%90%EB%A7%8C_%EB%A0%88%EB%B2%A8%EC%97%85%E3%80%8F_%EC%95%A0%EB%8B%88%EB%A9%94%EC%9D%B4%EC%85%98_%ED%94%84%EB%A1%9C%EC%A0%9D%ED%8A%B8_%ED%95%B4%EA%B8%88_PV_%EA%B3%B5%EA%B0%9C_-_%E3%80%8ESolo_Leveling%E3%80%8F_Animation_Project_Official_Teaser_%28KR%29/revision/latest/scale-to-width-down/250?cb=20220703235829)](https://solo-leveling.fandom.com/wiki/File:%E3%80%8E%EB%82%98_%ED%98%BC%EC%9E%90%EB%A7%8C_%EB%A0%88%EB%B2%A8%EC%97%85%E3%80%8F_%EC%95%A0%EB%8B%88%EB%A9%94%EC%9D%B4%EC%85%98_%ED%94%84%EB%A1%9C%EC%A0%9D%ED%8A%B8_%ED%95%B4%EA%B8%88_PV_%EA%B3%B5%EA%B0%9C_-_%E3%80%8ESolo_Leveling%E3%80%8F_Animation_Project_Official_Teaser_(KR))<br>『나 혼자만 레벨업』 애니메이션 프로젝트 해금 PV 공개 - 『Solo Leveling』 Animation Project Official Teaser (KR) |\n",
            "\n",
            "| **Related Sites** |\n",
            "| --- |\n",
            "| **Official Sites**<br>- [Official Anime Site](https://sololeveling-anime.net/)<br>- [Solo Leveling Novel (KakaoPage)](https://page.kakao.com/home?seriesId=48787313)<br>- [Solo Leveling Webtoon (KakaoPage)](https://page.kakao.com/home?seriesId=50866481)<br>- [Solo Leveling (Tappytoon)](https://www.tappytoon.com/en/comics/solo-leveling-official) \\- English Webtoon Official Translation<br>**Unofficial Sites**<br>- [Solo Leveling (Asura Scans)](https://asuracomic.net/manga/1908287720-solo-leveling/) \\- English Webtoon Fan Translation<br>- [Solo Leveling (InfinityScans)](https://infinityscans.xyz/title/17/solo-leveling) |\n",
            "\n",
            "| ![Latest2.png](https://images.wikia.com/ryuu-zone/images/f/f7/Latest2.png)[**Korean Webtoon Wikis**](https://koreanwebtoons.fandom.com/wiki/Korean_Webtoons_Wiki \"w:c:koreanwebtoons:Korean Webtoons Wiki\")![Latest2.png](https://images.wikia.com/ryuu-zone/images/f/f7/Latest2.png) |\n",
            "| --- |\n",
            "| [![Foxtoon](https://static.wikia.nocookie.net/central/images/3/3a/Foxtoon_Webtoon_logo.png/revision/latest/scale-to-width-down/20?cb=20160630154001)](http://www.foxtoon.com/ \"Foxtoon\")<br>[Foxtoon](http://www.foxtoon.com/) | [Black Haze](https://blackhaze.fandom.com/wiki/ \"w:c:black-haze\") |\n",
            "| [![KAKAO](https://static.wikia.nocookie.net/central/images/f/f3/KAKAO_WEBTOON_logo.png/revision/latest/scale-to-width-down/20?cb=20210813043621)](https://webtoon.kakao.com/ \"KAKAO\")<br>[KAKAO](https://webtoon.kakao.com/) | [Acacia](https://acacia-manhwa.fandom.com/wiki/ \"w:c:acacia-manhwa\")  • <br>[A Modern Man Falling Into the World of Murim](https://a-modern-man-got-transmigrated-to-the-murim-world.fandom.com/wiki/ \"w:c:a-modern-man-got-transmigrated-to-the-murim-world\")  • <br>[Black Behemoth](https://black-behemoth.fandom.com/wiki/ \"w:c:black-behemoth\")  • <br>[Burning Effect](https://burning-effect.fandom.com/wiki/ \"w:c:burning-effect\")  • <br>[Charlotte Has Five Disciples](https://community.fandom.com/wiki/c:charlotte-has-five-disciples \"w:c:charlotte-has-five-disciples\")  • <br>[Cherry Boy, That Girl](https://cherry-boy-that-girl.fandom.com/wiki/ \"w:c:cherry-boy-that-girl\")  • <br>[Chronicles Of The Martial God's Return](https://chronicles-of-the-martial-gods-return.fandom.com/wiki/ \"w:c:chronicles-of-the-martial-gods-return\")  • <br>[Debut or Die](https://debutordie.fandom.com/wiki/ \"w:c:debutordie\")  • <br>[Dungeon Odyessey](https://records-of-dungeon-travel.fandom.com/wiki/ \"w:c:records-of-dungeon-travel\")  • <br>[Emperor's Sword](https://emperors-sword.fandom.com/wiki/ \"w:c:emperors-sword\")  • <br>[Infinite Mage](https://infinite-mage.fandom.com/wiki/Infinite_Mage_Wiki \"w:c:infinite-mage:Infinite Mage Wiki\")  • <br>[I Stole the First Ranker’s Soul (I Stole the Number One Ranker's Soul)](https://i-stole-the-number-one-rankers-soul.fandom.com/wiki/I_Stole_the_Number_One_Ranker%27s_Soul_Wiki \"w:c:i-stole-the-number-one-rankers-soul:I Stole the Number One Ranker's Soul Wiki\")  • <br>[Karsearin: Adventures of a Red Dragon](https://karsearin.fandom.com/wiki/ \"w:c:karsearin\")  • <br>[Murim Login](https://murimlogin.fandom.com/wiki/ \"w:c:murimlogin\")  • <br>[Never Die Extra](https://never-die-extra.fandom.com/wiki/ \"w:c:never-die-extra\")  • <br>[Peerless Dad](https://peerless-dad.fandom.com/wiki/ \"w:c:peerless-dad\")  • <br>[Pick Me Up!](https://pick-me-up.fandom.com/wiki/Pick_Me_Up!_Wiki \"w:c:pick-me-up:Pick Me Up! Wiki\")  • <br>[Player Who Returned 10,000 Years Later](https://player-who-returned-10000-years-later.fandom.com/wiki/ \"w:c:player-who-returned-10000-years-later\")  • <br>[Red Storm](https://redstorm.fandom.com/wiki/ \"w:c:redstorm\")  • <br>[Seoul Station's Necromancer](https://seoul-stations-necromancer.fandom.com/wiki/ \"w:c:seoul-stations-necromancer\")  • <br>[The 31st Piece Overturns The Board](https://the-31st-piece-overturns-the-board.fandom.com/wiki/The_31st_Piece_Overturns_The_Board_Wiki \"w:c:the-31st-piece-overturns-the-board:The 31st Piece Overturns The Board Wiki\")  • <br>[The Regressed Demon Lord is Kind](https://the-regressed-demon-lord-is-kind.fandom.com/wiki/ \"w:c:the-regressed-demon-lord-is-kind\")  • <br>[The Return of the Disaster-Class Hero](https://return-of-the-disaster-class-hero.fandom.com/wiki/ \"w:c:return-of-the-disaster-class-hero\")  • <br>[Trace](https://trace.fandom.com/wiki/ \"w:c:trace\")  • <br>[Trash of the Count's Family](https://trash-of-the-counts-family.fandom.com/wiki/ \"w:c:trash-of-the-counts-family\")  • <br>[Trinity Wonder](https://trinity-wonder.fandom.com/wiki/ \"w:c:trinity-wonder\")  • <br>[Twelfth Night](https://twelfthnight.fandom.com/wiki/ \"w:c:twelfthnight\")[(2nd Wiki)](https://twelvenights.fandom.com/wiki/Twelve_Nights_Wiki \"w:c:twelve-nights:Twelve Nights Wiki\")  • <br>[Wake Up Deadman](https://wake-up-deadman.fandom.com/wiki/ \"w:c:wake-up-deadman\") |\n",
            "| [![KakaoPage](https://static.wikia.nocookie.net/central/images/8/8f/Kakao_page_logo.png/revision/latest/scale-to-width-down/20?cb=20190330111948)](https://page.kakao.com/ \"KakaoPage\")<br>[KakaoPage](https://page.kakao.com/) | [A Modern Man Falling Into the World of Murim](https://a-modern-man-got-transmigrated-to-the-murim-world.fandom.com/wiki/ \"w:c:a-modern-man-got-transmigrated-to-the-murim-world\")  • <br>[Children of the Rune](https://children-of-the-rune.fandom.com/wiki/Children_of_the_Rune_Wiki \"w:c:children-of-the-rune:Children of the Rune Wiki\")  • <br>[Chitra](https://chitra.fandom.com/wiki/ \"w:c:chitra\")  • <br>[Chronicles Of The Martial God's Return](https://chronicles-of-the-martial-gods-return.fandom.com/wiki/ \"w:c:chronicles-of-the-martial-gods-return\")  • <br>[Damn Reincarnation](https://damn-reincarnation.fandom.com/wiki/ \"w:c:damn-reincarnation\")  • <br>[Daughter of the Emperor](https://community.fandom.com/wiki/c:daughter-of-the-emperor \"w:c:daughter-of-the-emperor\")  • <br>[Doctor's Rebirth](https://doctors-rebirth.fandom.com/wiki/ \"w:c:doctors-rebirth\")  • <br>[Emperor's Sword](https://emperors-sword.fandom.com/wiki/ \"w:c:emperors-sword\")  • <br>[The Fantasie of a Stepmother](https://the-fantasie-of-a-stepmother.fandom.com/wiki/ \"w:c:the-fantasie-of-a-stepmother\")  • <br>[Father, I Dont Want to Get Married!](https://father-i-dont-want-to-get-married.fandom.com/wiki/ \"w:c:father-i-dont-want-to-get-married\")  • <br>[How to Protect the Heroine's Older Brother (Roxana)](https://how-to-protect-the-heroines-older-brother.fandom.com/wiki/ \"w:c:how-to-protect-the-heroines-older-brother\")  • <br>[How to Use a Returner](https://regressor-instruction-manual.fandom.com/wiki/ \"w:c:regressor-instruction-manual\")  • <br>[I Am the Real One (Actually, I was the Real One)](https://actually-i-was-the-real-one.fandom.com/wiki/ \"w:c:actually-i-was-the-real-one\")  • <br>[I Am The Sorcerer King](https://i-am-the-sorcerer-king.fandom.com/wiki/ \"w:c:i-am-the-sorcerer-king\")[(2nd Wiki)](https://community.fandom.com/wiki/c:i-am-the-king-of-magicians \"w:c:i-am-the-king-of-magicians\")  • <br>[Inso's Law](https://insos-law.fandom.com/wiki/ \"w:c:insos-law\")  • <br>[I Shall Master this Family!](https://i-shall-master-this-family.fandom.com/wiki/ \"w:c:I-Shall-Master-this-Family\")  • <br>[Just Leave Me Be](https://just-leave-me-be.fandom.com/wiki/ \"w:c:Just-Leave-Me-Be\")  • <br>[Latna Saga: Survival of a Sword King (Survival Story of a Sword King in a Fantasy World)](https://survival-story-of-a-sword-king-in-a-fantasy-world.fandom.com/wiki/ \"w:c:survival-story-of-a-sword-king-in-a-fantasy-world\")  • <br>[Leveling with the Gods](https://leveling-with-the-gods.fandom.com/wiki/ \"w:c:leveling-with-the-gods\")  • <br>[The Legendary Moonlight Sculptor](https://the-legendary-moonlight-sculptor.fandom.com/wiki/ \"w:c:the-legendary-moonlight-sculptor\")  • <br>[The Martial God Who Regressed Back to Level 2](https://the-martial-god-who-regressed-back-to-level-2.fandom.com/wiki/The_Martial_God_Who_Regressed_Back_to_Level_2_Wiki \"w:c:the-martial-god-who-regressed-back-to-level-2:The Martial God Who Regressed Back to Level 2 Wiki\")  • <br>[Murim Login](https://murimlogin.fandom.com/wiki/ \"w:c:murimlogin\")  • <br>[The Novel's Extra](https://the-novels-extra.fandom.com/wiki/ \"w:c:the-novels-extra\")  • <br>[Overgeared](https://overgeared.fandom.com/wiki/ \"w:c:overgeared\")  • <br>[Reaper of the Drifting Moon](https://reaper-of-the-drifting-moon.fandom.com/wiki/ \"w:c:reaper-of-the-drifting-moon\")  • <br>[Return of The 8th Class Mage](https://return-of-the-8th-class-mage.fandom.com/wiki/ \"w:c:return-of-the-8th-class-mage\")  • <br>[Revenge of the Iron-Blooded Sword Hound](https://revenge-of-the-ironblooded-sword-hound.fandom.com/wiki/ \"w:c:revenge-of-the-ironblooded-sword-hound\")  • <br>[Revolutionary Princess Eve](https://revolutionaryprincesseve.fandom.com/wiki/ \"w:c:revolutionaryprincesseve\")  • <br>[The Second Coming of Gluttony](https://the-second-coming-of-gluttony.fandom.com/wiki/ \"w:c:the-second-coming-of-gluttony\")  • <br>[Solitary Lady](https://solitary-lady.fandom.com/wiki/ \"w:c:solitary-lady\")  • <br>[Solo Leveling](https://solo-leveling.fandom.com/wiki/ \"w:c:solo-leveling\")  • <br>[SSS-Class Gacha Hunter](https://sssclass-gacha-hunter.fandom.com/wiki/ \"w:c:sssclass-gacha-hunter\")  • <br>[SSS-Class Revival Hunter (SSS-Class Suicide Hunter)](https://sss-class-suicide-hunter.fandom.com/wiki/ \"w:c:sss-class-suicide-hunter\")  • <br>[Swordmaster's Youngest Son](https://swordmasters-youngest-son.fandom.com/wiki/ \"w:c:swordmasters-youngest-son\")  • <br>[Talent-Swallowing Magician](https://talentswallowing-magician.fandom.com/wiki/ \"w:c:talentswallowing-magician\")  • <br>[The Hero Returns](https://the-hero-returns.fandom.com/wiki/ \"w:c:the-hero-returns\")  • <br>[Time Slip of the Fist King (The Indomitable Martial King)](https://time-slip-of-the-fist-king.fandom.com/wiki/Time_Slip_of_the_Fist_King_Wiki \"w:c:time-slip-of-the-fist-king:Time Slip of the Fist King Wiki\")  • <br>[The Curious Case of Chronicle](https://curious-case-of-chronicle.fandom.com/wiki/ \"w:c:curious-case-of-chronicle\")  • <br>[The Grand Mudang Saga (Wandering Warrior of Wudang)](https://the-grand-mudang-saga.fandom.com/wiki/ \"w:c:the-grand-mudang-saga\")  • <br>[The Reborn Young Lord is an Assassin](https://the-reborn-young-lord-is-an-assassin.fandom.com/wiki/ \"w:c:the-reborn-young-lord-is-an-assassin\")  • <br>[The Tutorial is too Hard](https://the-tutorial-is-too-hard.fandom.com/wiki/ \"w:c:the-tutorial-is-too-hard\")  • <br>[The Villainess is a Marionette](https://the-villainess-is-a-marionette.fandom.com/wiki/ \"w:c:The-Villainess-Is-A-Marionette\")  • <br>[The Villainess Turns the Hourglass](https://the-villainess-turns-the-hourglass.fandom.com/wiki/ \"w:c:the-villainess-turns-the-hourglass\")  • <br>[Tomb Raider King](https://tomb-raider-king.fandom.com/wiki/ \"w:c:tomb-raider-king\")  • <br>[Villainesses Have More Fun](https://villainesses-have-more-fun.fandom.com/wiki/ \"w:c:villainesses-have-more-fun\")  • <br>[Villains Are Destined to Die](https://villains-are-destined-to-die.fandom.com/wiki/ \"w:c:villains-are-destined-to-die\")  • <br>[Volcanic Age](https://volcanic-age.fandom.com/wiki/ \"w:c:volcanic-age\")  • <br>[Warble](https://warble.fandom.com/wiki/ \"w:c:warble\")  • <br>[Warrior High School](https://warrior-high-school.fandom.com/wiki/ \"w:c:warrior-high-school\")  • <br>[Who Made Me a Princess](https://who-made-me-a-princess.fandom.com/wiki/ \"w:c:who-made-me-princess\")  • <br>[Why Raeliana Ended Up at the Duke's Mansion](https://at-the-dukes-mansion.fandom.com/wiki/ \"w:c:at-the-dukes-mansion\") |\n",
            "| [![Lezhin](https://static.wikia.nocookie.net/central/images/5/56/Lezhin_Comics_logo.png/revision/latest/scale-to-width-down/20?cb=20160630153955)](https://www.lezhin.com/ko/ \"Lezhin\")<br>[Lezhin](https://www.lezhin.com/ko/) | [Lucia](https://lucia.fandom.com/wiki/ \"w:c:lucia\")  • <br>[Appetite](https://appetite.fandom.com/wiki/ \"w:c:appetite\")  • <br>[The Devil's Boy](https://devils-boy.fandom.com/wiki/ \"w:c:devils-boy\")  • <br>[Minverse series](https://minverse.fandom.com/wiki/ \"w:c:minverse\")  • <br>[Tale of Eun Aran](https://taleofeunaran.fandom.com/wiki/ \"w:c:taleofeunaran\")  • <br>[Skill of Lure](https://skilloflure.fandom.com/wiki/ \"w:c:skilloflure\")  • <br>[White Epic](https://white-epic.fandom.com/wiki/ \"w:c:white-epic\") |\n",
            "| [![MComics](https://static.wikia.nocookie.net/central/images/2/2f/MComics_Webtoon_logo.png/revision/latest/scale-to-width-down/20?cb=20220918034340)](https://www.mcomics.co.kr/ \"MComics\")<br>[MComics](https://www.mcomics.co.kr/) | [ENNEAD](https://theennead.fandom.com/wiki/ \"w:c:theennead\") |\n",
            "| [![Naver](https://static.wikia.nocookie.net/central/images/7/79/Naver_Webtoon_logo.png/revision/latest/scale-to-width-down/20?cb=20160630153902)](https://comic.naver.com/webtoon/weekday \"Naver\")<br>[Naver](http://comic.naver.com/webtoon/weekday.nhn) | [Absolute Regression](https://absoluteregression.fandom.com/wiki/ \"w:c:absoluteregression\")  • <br>[A Dance of Swords in the Night](https://a-dance-of-swords-in-the-night.fandom.com/wiki/ \"w:c:a-dance-of-swords-in-the-night\")  • <br>[A Thousand Years Ninetails](https://a-thousand-years-ninetails.fandom.com/wiki/ \"w:c:a-thousand-years-ninetails\")  • <br>[Abide in the Wind](https://abide-in-the-wind.fandom.com/wiki/ \"w:c:abide-in-the-wind\")  • <br>[Ability](https://ability.fandom.com/wiki/ \"w:c:ability\")  • <br>[Absolute Sword Sense](https://absolute-sword-sense.fandom.com/wiki/ \"w:c:absolute-sword-sense\")  • <br>[Americano Exodus](https://americano-exodus.fandom.com/wiki/ \"w:c:americano-exodus\")  • <br>[Aura from Another Planet Wiki](https://aurafromanotherplanet.fandom.com/wiki/ \"w:c:aurafromanotherplanet\")  • <br>[Bastard](https://bastard-webtoon.fandom.com/wiki/ \"w:c:bastard-webtoon\")  • <br>[Boundless Ascension](https://boundless-ascension.fandom.com/wiki/ \"w:c:boundless-ascension\")  • <br>[Chasing Tails](https://chasing-tails.fandom.com/wiki/ \"w:c:chasing-tails\")  • <br>[Cheese in the Trap](https://cheese-in-the-trap.fandom.com/wiki/ \"w:c:cheese-in-the-trap\")  • <br>[Crepuscule](https://crepuscule.fandom.com/wiki/ \"w:c:crepuscule\")  • <br>[Date First, Love Later](https://date-first-love-later.fandom.com/wiki/ \"w:c:date-first-love-later\")  • <br>[Days of Hana](https://days-of-hana.fandom.com/wiki/ \"w:c:days-of-hana\")  • <br>[Denma](https://denma.fandom.com/wiki/ \"w:c:denma\")  • <br>[Designated Bully](https://designated-bully.fandom.com/wiki/ \"w:c:designated-bully\")  • <br>[Devil Number 4](https://devil-number-4.fandom.com/wiki/ \"w:c:devil-number-4\")  • <br>[DICE](https://dice.fandom.com/wiki/ \"w:c:dice\")[(2nd Wiki)](https://dicemanhwa.fandom.com/wiki/D.I.C.E_Wiki \"w:c:dicemanhwa:D.I.C.E Wiki\")  • <br>[Divine Bells](https://divine-bells.fandom.com/wiki/ \"w:c:divine-bells\")  • <br>[Doom Breaker](https://doom-breaker.fandom.com/wiki/ \"w:c:doom-breaker\")  • <br>[Dr. Frost](https://dr-frost.fandom.com/wiki/ \"w:c:dr-frost\")  • <br>[Eleceed](https://eleceed.fandom.com/wiki/ \"w:c:eleceed\")  • <br>[The Executioner](https://the-executioner-webtoon.fandom.com/wiki/ \"w:c:the-executioner-webtoon\")  • <br>[Fight Class 3](https://fightclass3.fandom.com/wiki/ \"w:c:fightclass3\")  • <br>[For My Derelict Favorite](https://for-my-derelict-favorite.fandom.com/wiki/For_My_Derelict_Favorite_Wiki \"w:c:for-my-derelict-favorite:For My Derelict Favorite Wiki\")  • <br>[Dreaming Freedom](https://free-in-dreams.fandom.com/wiki/ \"w:c:free-in-dreams\")   • <br>[My ID is Gangnam Beauty!](https://gangnam-beauty.fandom.com/wiki/ \"w:c:gangnam-beauty\")  • <br>[Gepetto](https://gepetto.fandom.com/wiki/Gepetto_Wiki \"w:c:gepetto:Gepetto Wiki\")  • <br>[Girls of the Wild's](https://girlsofthewilds.fandom.com/wiki/ \"w:c:girlsofthewilds\")  • <br>[The God of High School](https://godofhighschool.fandom.com/wiki/ \"w:c:godofhighschool\")  • <br>[Gosu (The Master)](https://gosuverse.fandom.com/wiki/ \"w:c:gosuverse\")  • <br>[Hardcore Leveling Warrior](https://hardcorelevelingwarrior.fandom.com/wiki/ \"w:c:hardcorelevelingwarrior\")  • <br>[X Ash](https://hardcorelevelingwarrior.fandom.com/wiki/ \"w:c:hardcorelevelingwarrior\")   • <br>[Hellbound](https://hellbound.fandom.com/wiki/ \"w:c:hellbound\")  • <br>[Hellper](https://hellper-webtoon.fandom.com/wiki/ \"w:c:hellper-webtoon\")  • <br>[The Warrior Returns (Hero Has Returned)](https://hero-has-returned.fandom.com/wiki/ \"w:c:hero-has-returned\")  • <br>[Hero Killer](https://herokiller.fandom.com/wiki/ \"w:c:herokiller\")  • <br>[How to Become a Dragon](https://how-to-become-a-dragon.fandom.com/wiki/ \"w:c:how-to-become-a-dragon\")  • <br>[I Don't Want This Kind of Hero](https://i-dont-want-this-kind-of-hero.fandom.com/wiki/ \"w:c:i-dont-want-this-kind-of-hero\")  • <br>[Academy's Undercover Professor](https://i-got-a-fake-job-at-the-academy.fandom.com/wiki/ \"w:c:i-got-a-fake-job-at-the-academy\")  • <br>[I Killed the Player of the Academy](https://i-killed-the-player-of-the-academy.fandom.com/wiki/ \"w:c:i-killed-the-player-of-the-academy\")  • <br>[Mythic Item Obtained (I Obtained a Mythic Item)](https://i-obtained-a-mythic-item.fandom.com/wiki/ \"w:c:i-obtained-a-mythic-item\")  • <br>[Jungle Juice](https://junglejuicewebtoon.fandom.com/wiki/ \"w:c:junglejuicewebtoon\")  • <br>[Blade of the Phantom Master](https://jushin.fandom.com/wiki/The_Shin_Angyo_Onshi_Wiki \"w:c:jushin:The Shin Angyo Onshi Wiki\")  • <br>[Knight Run](https://knightrun.fandom.com/wiki/ \"w:c:knightrun\")  • <br>[Kubera](https://kubera.fandom.com/wiki/ \"w:c:kubera\")  • <br>[Lessa](https://lessa.fandom.com/wiki/ \"w:c:lessa\")  • <br>[Lookism](https://lookism.fandom.com/wiki/ \"w:c:lookism\")  • <br>[Magician](https://magician.fandom.com/wiki/ \"w:c:magician\")  • <br>[Marry My Husband](https://marry-my-husband.fandom.com/wiki/ \"w:c:marry-my-husband\")  • <br>[I'm the Max Level Newbie (Max Level Newbie)](https://max-level-newbie.fandom.com/wiki/ \"w:c:max-level-newbie\")  • <br>[Maybe Meant to Be](https://maybe-meant-to-be.fandom.com/wiki/ \"w:c:maybe-meant-to-be\")  • <br>[Men of the Harem](https://men-of-the-harem.fandom.com/wiki/ \"w:c:men-of-the-harem\")  • <br>[Mima of the Forest](https://mima.fandom.com/wiki/ \"w:c:mima\")  • <br>[My S Class Hunters (The S-Ranks That I Raised)](https://mysranks.fandom.com/wiki/ \"w:c:mysranks\")[(2nd Wiki)](https://mysranks.fandom.com/wiki/ \"w:c:the-sclasses-that-i-raised-wiki\")  • <br>[Nano Machine (Nano Mashine)](https://nano-mashine.fandom.com/wiki/ \"w:c:nano-mashine\")  • <br>[Nano List](https://nanolist.fandom.com/wiki/ \"w:c:nanolist\")  • <br>[Noblesse](https://noblesse.fandom.com/wiki/ \"w:c:noblesse\")  • <br>[Nowhere Boy](https://nowhereboy.fandom.com/wiki/ \"w:c:nowhereboy\")  • <br>[Odd Girl Out](https://odd-girl-out.fandom.com/wiki/ \"w:c:odd-girl-out\")  • <br>[Omniscient Reader (Omniscient Reader's Viewpoint)](https://omniscient-readers-viewpoint.fandom.com/wiki/ \"w:c:omniscient-readers-viewpoint\")  • <br>[Orange Marmalade](https://orangemarmalade.fandom.com/wiki/ \"w:c:orangemarmalade\")  • <br>[Perfect Marriage Revenge](https://perfect-marriage-revenge.fandom.com/wiki/Perfect_Marriage_Revenge_Wiki \"w:c:perfect-marriage-revenge:Perfect Marriage Revenge Wiki\")  • <br>[Phantom Paradise](https://phantom-paradise.fandom.com/wiki/ \"w:c:phantom-paradise\")  • <br>[Pig Pen](https://community.fandom.com/wiki/c:pig-pen \"w:c:pig-pen\")  • <br>[Promised Orchid](https://promised-orchid.fandom.com/wiki/ \"w:c:promised-orchid\")  • <br>[Refund High School](https://refund-high-school.fandom.com/wiki/ \"w:c:refund-high-school\")  • <br>[Regressor of the Fallen Family](https://regressor-of-the-fallen-family.fandom.com/wiki/ \"w:c:regressor-of-the-fallen-family\")  • <br>[Reincarnator](https://reincarnator.fandom.com/wiki/Reincarnator_Wikia \"w:c:reincarnator:Reincarnator Wikia\")  • <br>[Return of the Mad Demon (Return of the Crazy Demon)](https://return-of-the-crazy-demon.fandom.com/wiki/ \"w:c:return-of-the-crazy-demon\")  • <br>[Return of the Blossoming Blade](https://return-of-the-blossoming-blade.fandom.com/wiki/ \"w:c:return-of-the-mount-hua-sect\")  • <br>[Return to Player](https://return-to-player.fandom.com/wiki/ \"w:c:return-to-player\")  • <br>[Reveries of the Moonlight](https://reveries-of-the-moonlight.fandom.com/wiki/ \"w:c:reveries-of-the-moonlight\")  • <br>[The Most Beautiful Moment in Life, part 0 (Save Me)](https://saveme.fandom.com/wiki/ \"w:c:saveme\")  • <br>[Secret Player](https://secret-player.fandom.com/wiki/ \"w:c:secret-player\")  • <br>[Shadow Bride](https://community.fandom.com/wiki/c:shadow-bride \"w:c:shadow-bride\")  • <br>[Sidekicks](https://sidekicks.fandom.com/wiki/ \"w:c:sidekicks\")  • <br>[I'm the Queen in This Life (Sister, In This Life I'll Become Queen)](https://sister-in-this-life-i-have-become-the-queen.fandom.com/wiki/ \"w:c:sister-in-this-life-i-have-become-the-queen:\")  • <br>[Sixth Sense Kiss](https://sixth-sense-kiss.fandom.com/wiki/ \"w:c:sixth-sense-kiss\")  • <br>[Soul Cartel](https://soulcartel.fandom.com/wiki/ \"w:c:soulcartel\")  • <br>[Study Group](https://study-group.fandom.com/wiki/ \"w:c:study-group\")  • <br>[Supernatural Investigation Department](https://supernaturalinvestigationdepartmentmanga.fandom.com/wiki/ \"w:c:supernaturalinvestigationdepartmentmanga\")  • <br>[Surviving the Game as a Barbarian](https://surviving-the-game-as-a-barbarian.fandom.com/wiki/ \"w:c:surviving-the-game-as-a-barbarian\")  • <br>[Swallow Knights Tales](https://swallow-knights-tales.fandom.com/wiki/ \"w:c:swallow-knights-tales\")  • <br>[Sweet Home](https://sweethomewebtoon.fandom.com/wiki/ \"w:c:sweethomewebtoon\")  • <br>[Swimming Lessons For A Mermaid](https://swimming-lessons-for-a-mermaid.fandom.com/wiki/ \"w:c:swimming-lessons-for-a-mermaid\")  • <br>[TAL](https://tal-masks.fandom.com/wiki/ \"w:c:talmanwha\")  • <br>[The Advanced Player of the Tutorial Tower](https://the-advanced-player-of-the-tutorial-tower.fandom.com/wiki/ \"w:c:the-advanced-player-of-the-tutorial-tower\")  • <br>[The Boxer](https://the-boxer.fandom.com/wiki/ \"w:c:the-boxer\")  • <br>[The Dark Lord's Confession](https://the-dark-lords-confession.fandom.com/wiki/ \"w:c:the-dark-lords-confession\")  • <br>[66,666 Years: Advent of the Dark Mage (The Dark Magician Transmigrates After 66666 Years)](https://the-dark-magician-transmigrates-after-66666-years.fandom.com/wiki/ \"w:c:the-dark-magician-transmigrates-after-66666-years\")  • <br>[The Dragon King’s Bride](https://the-dragon-kings-bride.fandom.com/wiki/ \"w:c:the-dragon-kings-bride\")  • <br>[The Ember Knight](https://the-ember-knight.fandom.com/wiki/ \"w:c:the-ember-knight\")  • <br>[The Extra's Academy Survival Guide](https://academysurvival.fandom.com/wiki/The_Extra%E2%80%99s_Academy_Survival_Guide_Wiki \"w:c:academysurvival:The Extra’s Academy Survival Guide Wiki\")  •   • <br>[Flow](https://the-flow-stream.fandom.com/wiki/ \"w:c:the-flow-stream\")  • <br>[The Gamer](https://the-gamer.fandom.com/wiki/ \"w:c:the-gamer\")  • <br>[The Greatest Estate Developer](https://the-greatest-estate-developer.fandom.com/wiki/ \"w:c:the-greatest-estate-developer\")  • <br>[The Makeup Remover](https://community.fandom.com/wiki/c:the-makeup-remover-webtoon \"w:c:the-makeup-remover-webtoon\")  • <br>[The Player Hides His Past](https://the-player-hides-his-past.fandom.com/wiki/ \"w:c:the-player-hides-his-past\")  • <br>[The Remarried Empress](https://the-remarried-empress.fandom.com/wiki/ \"w:c:the-remarried-empress\")  • <br>[The Top Dungeon Farmer](https://the-top-dungeon-farmer.fandom.com/wiki/ \"w:c:the-top-dungeon-farmer\")  • <br>[The Tyrant Wants to be Good](https://the-tyrant-wants-to-be-good.fandom.com/wiki/ \"w:c:the-tyrant-wants-to-be-good\")  • <br>[The World After the Fall](https://the-world-after-the-fall.fandom.com/wiki/ \"w:c:the-world-after-the-fall\")   • <br>[The Breaker](https://thebreaker.fandom.com/wiki/ \"w:c:thebreaker\")  • <br>[The Lone Necromancer](https://thelonenecromancer.fandom.com/wiki/The_Lone_Necromancer_Wiki \"w:c:thelonenecromancer:The Lone Necromancer Wiki\")  • <br>[The Ultimate Shut-in](https://the-ultimate-shut-in.fandom.com/wiki/ \"w:c:the-ultimate-shut-in\")  • <br>[To Love Your Enemy](https://community.fandom.com/wiki/c:to-love-your-enemy \"w:c:to-love-your-enemy\")  • <br>[Tower of God](https://towerofgod.fandom.com/wiki/ \"w:c:towerofgod\")  • <br>[Transfer Student Storm Bringer](https://transferstudentstormbringer.fandom.com/wiki/ \"w:c:transferstudentstormbringer\")  • <br>[True Beauty](https://true-beauty.fandom.com/wiki/ \"w:c:true-beauty\")  • <br>[Trump](https://trump-webtoon.fandom.com/wiki/ \"w:c:trump-webtoon\")  • <br>[UnderPRIN](https://under-prin.fandom.com/wiki/ \"w:c:under-prin\")  • <br>[Unholy Blood](https://unholyblood.fandom.com/wiki/ \"w:c:unholyblood\")   • <br>[unTOUCHable](https://untouchable.fandom.com/wiki/ \"w:c:untouchable\")   • <br>[Villian to Kill](https://villain-to-kill-webtoons.fandom.com/wiki/ \"w:c:villain-to-kill-webtoons\")   • <br>[Viral Hit](https://viral-hit.fandom.com/wiki/ \"w:c:viral-hit\")   • <br>[Weak Hero](https://weakhero.fandom.com/wiki/ \"w:c:weakhero\")   • <br>[When the Third Wheel Strikes Back](https://when-the-third-wheel-strikes-back.fandom.com/wiki/ \"w:c:when-the-third-wheel-strikes-back\")  • <br>[Wind Breaker](https://windbreaker.fandom.com/wiki/ \"w:c:windbreaker\")  • <br>[Wonted](https://wonted.fandom.com/wiki/ \"w:c:wonted\")   • <br>[Your Throne](https://your-throne.fandom.com/wiki/ \"w:c:your-throne\")   • <br>[Yumi's Cells](https://yumis-cells.fandom.com/wiki/ \"w:c:yumis-cells\")   • <br>[Zero Game](https://zero-game.fandom.com/wiki/ \"w:c:zero-game\")   • |\n",
            "| [![Ridi](https://static.wikia.nocookie.net/central/images/5/59/Ridibooks.jpg/revision/latest/scale-to-width-down/20?cb=20220422131727)](https://ridibooks.com/webtoon/recommendation \"Ridi\")<br>[Ridi](https://ridibooks.com/webtoon/recommendation) | [Finding Camellia](https://finding-camellia.fandom.com/wiki/ \"w:c:finding-camellia\")  • <br>[Lady Devil](https://ladydevil.fandom.com/wiki/ \"w:c:ladydevil\")  • <br>[Terrarium Adventure](https://terrarium-adventure.fandom.com/wiki/ \"w:c:terrarium-adventure\")  • <br>[The Tainted Half](https://the-tainted-half.fandom.com/wiki/The_Tainted_Half_Wiki \"w:c:the-tainted-half:The Tainted Half Wiki\")  • <br>[Under the Oak Tree](https://under-the-oak-tree.fandom.com/wiki/Under_the_Oak_Tree_Wiki \"w:c:under-the-oak-tree:Under the Oak Tree Wiki\") |\n",
            "| [![Toomics](https://static.wikia.nocookie.net/central/images/0/07/Toomics.jpg/revision/latest/scale-to-width-down/20?cb=20230518040039)](https://www.toomics.com/ \"Toomics\")<br>[Toomics](https://www.toomics.com/) | [Leviathan](https://leviathanmanhwa.fandom.com/wiki/ \"w:c:leviathanmanhwa\") |\n",
            "| _[Add to this list!](https://community.fandom.com/wiki/Template:Kwebtoon \"w:Template:Kwebtoon\")_ |\n",
            "\n",
            "[\\[Configure Reference Popups\\]](https://solo-leveling.fandom.com/wiki/Solo_Leveling_Wiki#configure-refpopups)\n",
            "\n",
            "Community content is available under [CC-BY-SA](https://www.fandom.com/licensing) unless otherwise noted.\n",
            "\n",
            "- [Fantasy](https://www.fandom.com/fancentral/fantasy)\n",
            "\n",
            "Advertisement\n",
            "\n",
            "[Follow on IG](https://bit.ly/FandomIG) [TikTok](https://bit.ly/TikTokFandom) [Join Fan Lab](https://bit.ly/FanLabWikiBar)\n",
            "\n",
            "[Check out Fandom Quizzes and cha](https://bit.ly/WBTrivia2)\n",
            "\n",
            "[Collapse](https://solo-leveling.fandom.com/wiki/Solo_Leveling_Wiki# \"Collapse\")\n",
            "\n",
            "[Search this wiki](https://solo-leveling.fandom.com/wiki/Special:Search?scope=internal&query=&h=1&isFromHighlightActions=on)\n",
            "\n",
            "[Search all wikis](https://solo-leveling.fandom.com/wiki/Special:Search?scope=cross-wiki&query=&h=1&isFromHighlightActions=on)\n",
            "\n",
            "silver-surfer-storage-html\n",
            "\n",
            "![](https://idsync.rlcdn.com/712315.gif?partner_uid=cdf692be-75c0-4d13-af49-45f939483fc5)![](https://pixel.tapad.com/idsync/ex/receive?partner_id=3442&partner_device_id=cdf692be-75c0-4d13-af49-45f939483fc5&partner_url=https://services.fandom.com/identity-storage/external/experian/receiveid/198c73c1-3bbb-48ed-8ac4-06544dbebd1d?id=${TA_DEVICE_ID}&partner=TAPAD)![iiq_pixel](https://sync.intentiq.com/profiles_engine/ProfilesEngineServlet?at=20&mi=10&secure=1&dpi=1187275693&iiqidtype=2&iiqpcid=bd804d91-c358-ce05-05f7-4fddb429e64e&iiqpciddate=1737988004677&tsrnd=328_1737988004752&vrref=fandom.com&jsver=6.07&dw=1280&dh=1024&dpr=1&lan=en-US&testPercentage=97&testGroup=A&uh=%7B%220%22%3A%22%22%2C%221%22%3A%22%3F0%22%2C%227%22%3A%22%3F0%22%2C%228%22%3A%22%22%7D&gdpr=0)\n"
          ]
        }
      ]
    },
    {
      "cell_type": "code",
      "source": [
        "solo_leveling_markdown = shorten_context(solo_leveling_markdown, max_length=1000)"
      ],
      "metadata": {
        "id": "WaWg1FuBPhIZ"
      },
      "execution_count": 42,
      "outputs": []
    },
    {
      "cell_type": "code",
      "source": [
        "context = f\"\"\"The following are solo leveling \\n\\n<solo_leveling>{solo_leveling_markdown}</solo_leveling>\\n\"\"\""
      ],
      "metadata": {
        "id": "w22rUe7cH3AX"
      },
      "execution_count": 43,
      "outputs": []
    },
    {
      "cell_type": "markdown",
      "source": [
        "## **Groq**"
      ],
      "metadata": {
        "id": "3z1AYX3oIiDs"
      }
    },
    {
      "cell_type": "code",
      "source": [
        "pip install groq -q"
      ],
      "metadata": {
        "id": "xv1CQ4EFIn-X"
      },
      "execution_count": 44,
      "outputs": []
    },
    {
      "cell_type": "code",
      "source": [
        "from groq import Groq\n",
        "import getpass\n",
        "\n",
        "GROQ_API_KEY=getpass.getpass(\"Groq API Key: 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\")\n",
        "\n",
        "client = Groq(api_key=GROQ_API_KEY)"
      ],
      "metadata": {
        "colab": {
          "base_uri": "https://localhost:8080/"
        },
        "id": "q0D5kGuzIq34",
        "outputId": "39b0dec6-1a2a-4a24-a0a8-c49f6f9bb11e"
      },
      "execution_count": 45,
      "outputs": [
        {
          "name": "stdout",
          "output_type": "stream",
          "text": [
            "Groq API Key: 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··········\n"
          ]
        }
      ]
    },
    {
      "cell_type": "code",
      "source": [
        "system_message = f\"\"\"\n",
        "You're a helpful intelligence assistant.\n",
        "You're going to look at the course and prices.\n",
        "Your answer is always extremely short and straight to the point.\n",
        "\"\"\""
      ],
      "metadata": {
        "id": "QmS4hhTxIstg"
      },
      "execution_count": 48,
      "outputs": []
    },
    {
      "cell_type": "code",
      "source": [
        "def get_response(query: str, context: str):\n",
        "  completion = client.chat.completions.create(\n",
        "      model=\"llama-3.2-11b-vision-preview\",\n",
        "      messages=[\n",
        "          {\n",
        "              \"role\": \"system\",\n",
        "              \"content\": system_message\n",
        "          },\n",
        "          {\n",
        "              \"role\": \"user\",\n",
        "              \"content\": context\n",
        "          },\n",
        "          {\n",
        "              \"role\": \"user\",\n",
        "              \"content\": query\n",
        "          }\n",
        "      ],\n",
        "      temperature=0,\n",
        "      max_tokens=1470,\n",
        "      top_p=1,\n",
        "      stream=False,\n",
        "      stop=None,\n",
        "  )\n",
        "\n",
        "  return completion.choices[0].message.content"
      ],
      "metadata": {
        "id": "Ehq7r7JXIutM"
      },
      "execution_count": 47,
      "outputs": []
    },
    {
      "cell_type": "code",
      "source": [
        "def get_response(query: str, context: str):\n",
        "\n",
        "  completion = client.chat.completions.create(\n",
        "      model=\"llama-3.3-70b-versatile\",\n",
        "      messages=[\n",
        "          {\n",
        "              \"role\": \"system\",\n",
        "              \"content\": system_message\n",
        "          },\n",
        "          {\n",
        "              \"role\": \"user\",\n",
        "              \"content\": context\n",
        "          },\n",
        "          {\n",
        "              \"role\": \"user\",\n",
        "              \"content\": query\n",
        "          }\n",
        "      ],\n",
        "      temperature=0.46,\n",
        "      max_completion_tokens=2220,\n",
        "      top_p=1,\n",
        "      stream=True,\n",
        "      stop=None,\n",
        "  )\n",
        "\n",
        "  for chunk in completion:\n",
        "      print(chunk.choices[0].delta.content or \"\", end=\"\")\n"
      ],
      "metadata": {
        "id": "gEn9NRuLNpkG"
      },
      "execution_count": 49,
      "outputs": []
    },
    {
      "cell_type": "code",
      "source": [
        "answer = get_response(\n",
        "    query=\"what is solo leveling?\",\n",
        "    context=context,\n",
        "    )\n",
        "\n",
        "print(answer)"
      ],
      "metadata": {
        "colab": {
          "base_uri": "https://localhost:8080/"
        },
        "id": "b5stpAPHIzzp",
        "outputId": "56efe393-5ba5-4918-b907-4c37844a1235"
      },
      "execution_count": 50,
      "outputs": [
        {
          "output_type": "stream",
          "name": "stdout",
          "text": [
            "Korean web novel and manhwa series.None\n"
          ]
        }
      ]
    },
    {
      "cell_type": "code",
      "source": [
        "print(\n",
        "    get_response(\n",
        "    query=\"who wrote solo leveling?\",\n",
        "    context=context,\n",
        "    )\n",
        ")"
      ],
      "metadata": {
        "colab": {
          "base_uri": "https://localhost:8080/"
        },
        "id": "I65EJaYJI2F8",
        "outputId": "f476ccbb-f95e-41f1-d6aa-f089b9eb4b05"
      },
      "execution_count": 51,
      "outputs": [
        {
          "output_type": "stream",
          "name": "stdout",
          "text": [
            "Chugong.None\n"
          ]
        }
      ]
    },
    {
      "cell_type": "code",
      "source": [
        "print(\n",
        "    get_response(\n",
        "    query=\"what kind of content tnat solo leveling had?\",\n",
        "    context=context,\n",
        "    )\n",
        ")"
      ],
      "metadata": {
        "colab": {
          "base_uri": "https://localhost:8080/"
        },
        "id": "Y-KQtrgoI33z",
        "outputId": "0d91d955-40c8-49bf-938e-38007edf0a26"
      },
      "execution_count": 52,
      "outputs": [
        {
          "output_type": "stream",
          "name": "stdout",
          "text": [
            "Action, Fantasy, Adventure.None\n"
          ]
        }
      ]
    },
    {
      "cell_type": "code",
      "source": [
        "import gradio as gr\n",
        "\n",
        "# Fungsi Gradio\n",
        "def chat_interface(query, context=\"\"):\n",
        "    try:\n",
        "        response = get_response(query, context)\n",
        "        return response\n",
        "    except Exception as e:\n",
        "        return f\"Error: {str(e)}\"\n",
        "\n",
        "# Antarmuka Gradio\n",
        "iface = gr.Interface(\n",
        "    fn=chat_interface,\n",
        "    inputs=[\n",
        "        gr.Textbox(label=\"Your Query\", placeholder=\"Type your query here...\"),\n",
        "        gr.Textbox(label=\"Context (Optional)\", placeholder=\"Provide context here (optional)...\"),\n",
        "    ],\n",
        "    outputs=gr.Textbox(label=\"Assistant Response\"),\n",
        "    title=\"LLM Chat Interface\",\n",
        "    description=\"Chat with the LLM using your query and optional context.\",\n",
        ")\n",
        "\n",
        "# Untuk Google Colab, gunakan share=True\n",
        "iface.launch(pwa=True, share=True)"
      ],
      "metadata": {
        "colab": {
          "base_uri": "https://localhost:8080/",
          "height": 613
        },
        "id": "S2QyNxx9I6is",
        "outputId": "6f940534-6e97-4814-de2a-5090fa70c7d6"
      },
      "execution_count": 53,
      "outputs": [
        {
          "output_type": "stream",
          "name": "stdout",
          "text": [
            "Colab notebook detected. To show errors in colab notebook, set debug=True in launch()\n",
            "* Running on public URL: https://4ca7e28ad844ecd457.gradio.live\n",
            "\n",
            "This share link expires in 72 hours. For free permanent hosting and GPU upgrades, run `gradio deploy` from the terminal in the working directory to deploy to Hugging Face Spaces (https://huggingface.co/spaces)\n"
          ]
        },
        {
          "output_type": "display_data",
          "data": {
            "text/plain": [
              "<IPython.core.display.HTML object>"
            ],
            "text/html": [
              "<div><iframe src=\"https://4ca7e28ad844ecd457.gradio.live\" width=\"100%\" height=\"500\" allow=\"autoplay; camera; microphone; clipboard-read; clipboard-write;\" frameborder=\"0\" allowfullscreen></iframe></div>"
            ]
          },
          "metadata": {}
        },
        {
          "output_type": "execute_result",
          "data": {
            "text/plain": []
          },
          "metadata": {},
          "execution_count": 53
        }
      ]
    },
    {
      "cell_type": "code",
      "source": [],
      "metadata": {
        "id": "wcAQNCe9JDM_"
      },
      "execution_count": null,
      "outputs": []
    }
  ]
}